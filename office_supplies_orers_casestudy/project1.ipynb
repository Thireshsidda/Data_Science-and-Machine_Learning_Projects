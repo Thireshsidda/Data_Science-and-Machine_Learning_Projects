{
 "cells": [
  {
   "cell_type": "markdown",
   "id": "8ca404f4",
   "metadata": {},
   "source": [
    "# Section 2"
   ]
  },
  {
   "cell_type": "code",
   "execution_count": 2,
   "id": "a98f1f90",
   "metadata": {},
   "outputs": [],
   "source": [
    "import os\n",
    "import pandas as pd\n"
   ]
  },
  {
   "cell_type": "code",
   "execution_count": null,
   "id": "85d74194",
   "metadata": {},
   "outputs": [],
   "source": [
    "df=pd.read_excel('D:/hero/02 Office Supplies Orders Case Study Data.xlsx',sheet_name='Data')\n",
    "df"
   ]
  },
  {
   "cell_type": "markdown",
   "id": "266376c9",
   "metadata": {},
   "source": [
    "# variables get read in Python in the right format"
   ]
  },
  {
   "cell_type": "code",
   "execution_count": 15,
   "id": "06ca9f47",
   "metadata": {},
   "outputs": [
    {
     "name": "stdout",
     "output_type": "stream",
     "text": [
      "<class 'pandas.core.frame.DataFrame'>\n",
      "RangeIndex: 51290 entries, 0 to 51289\n",
      "Data columns (total 23 columns):\n",
      " #   Column          Non-Null Count  Dtype         \n",
      "---  ------          --------------  -----         \n",
      " 0   Order ID        51290 non-null  object        \n",
      " 1   Order Date      51290 non-null  datetime64[ns]\n",
      " 2   Ship Date       51290 non-null  datetime64[ns]\n",
      " 3   Ship Mode       51290 non-null  object        \n",
      " 4   Customer ID     51290 non-null  object        \n",
      " 5   Customer Name   51290 non-null  object        \n",
      " 6   Segment         51290 non-null  object        \n",
      " 7   Postal Code     9994 non-null   float64       \n",
      " 8   City            51290 non-null  object        \n",
      " 9   State           51290 non-null  object        \n",
      " 10  Country         51290 non-null  object        \n",
      " 11  Region          51290 non-null  object        \n",
      " 12  Market          51290 non-null  object        \n",
      " 13  Product ID      51290 non-null  object        \n",
      " 14  Category        51290 non-null  object        \n",
      " 15  Sub-Category    51290 non-null  object        \n",
      " 16  Product Name    51290 non-null  object        \n",
      " 17  Sales           51290 non-null  float64       \n",
      " 18  Quantity        51290 non-null  int64         \n",
      " 19  Discount        51290 non-null  float64       \n",
      " 20  Profit          51290 non-null  float64       \n",
      " 21  Shipping Cost   51290 non-null  float64       \n",
      " 22  Order Priority  51290 non-null  object        \n",
      "dtypes: datetime64[ns](2), float64(5), int64(1), object(15)\n",
      "memory usage: 9.0+ MB\n"
     ]
    }
   ],
   "source": [
    "df.info()"
   ]
  },
  {
   "cell_type": "markdown",
   "id": "c7573088",
   "metadata": {},
   "source": [
    "# variables having missing values"
   ]
  },
  {
   "cell_type": "code",
   "execution_count": 16,
   "id": "d7677229",
   "metadata": {},
   "outputs": [
    {
     "data": {
      "text/plain": [
       "Order ID          False\n",
       "Order Date        False\n",
       "Ship Date         False\n",
       "Ship Mode         False\n",
       "Customer ID       False\n",
       "Customer Name     False\n",
       "Segment           False\n",
       "Postal Code        True\n",
       "City              False\n",
       "State             False\n",
       "Country           False\n",
       "Region            False\n",
       "Market            False\n",
       "Product ID        False\n",
       "Category          False\n",
       "Sub-Category      False\n",
       "Product Name      False\n",
       "Sales             False\n",
       "Quantity          False\n",
       "Discount          False\n",
       "Profit            False\n",
       "Shipping Cost     False\n",
       "Order Priority    False\n",
       "dtype: bool"
      ]
     },
     "execution_count": 16,
     "metadata": {},
     "output_type": "execute_result"
    }
   ],
   "source": [
    "df.isnull().any()"
   ]
  },
  {
   "cell_type": "code",
   "execution_count": 17,
   "id": "8b21c8d2",
   "metadata": {},
   "outputs": [
    {
     "data": {
      "text/plain": [
       "Order ID              0\n",
       "Order Date            0\n",
       "Ship Date             0\n",
       "Ship Mode             0\n",
       "Customer ID           0\n",
       "Customer Name         0\n",
       "Segment               0\n",
       "Postal Code       41296\n",
       "City                  0\n",
       "State                 0\n",
       "Country               0\n",
       "Region                0\n",
       "Market                0\n",
       "Product ID            0\n",
       "Category              0\n",
       "Sub-Category          0\n",
       "Product Name          0\n",
       "Sales                 0\n",
       "Quantity              0\n",
       "Discount              0\n",
       "Profit                0\n",
       "Shipping Cost         0\n",
       "Order Priority        0\n",
       "dtype: int64"
      ]
     },
     "execution_count": 17,
     "metadata": {},
     "output_type": "execute_result"
    }
   ],
   "source": [
    "df.isnull().sum()"
   ]
  },
  {
   "cell_type": "code",
   "execution_count": 19,
   "id": "e8a4ec20",
   "metadata": {},
   "outputs": [
    {
     "data": {
      "text/plain": [
       "(51290, 23)"
      ]
     },
     "execution_count": 19,
     "metadata": {},
     "output_type": "execute_result"
    }
   ],
   "source": [
    "df.shape"
   ]
  },
  {
   "cell_type": "markdown",
   "id": "faf022e4",
   "metadata": {},
   "source": [
    "#  list of variables for which missings values exist "
   ]
  },
  {
   "cell_type": "code",
   "execution_count": 21,
   "id": "e3b5f739",
   "metadata": {},
   "outputs": [
    {
     "data": {
      "text/plain": [
       "['Postal Code']"
      ]
     },
     "execution_count": 21,
     "metadata": {},
     "output_type": "execute_result"
    }
   ],
   "source": [
    "l=list(df.columns[df.isnull().any()])\n",
    "l"
   ]
  },
  {
   "cell_type": "markdown",
   "id": "9981d66a",
   "metadata": {},
   "source": [
    "# Percentage % values of missing values of the variables"
   ]
  },
  {
   "cell_type": "code",
   "execution_count": 26,
   "id": "c034a2d9",
   "metadata": {},
   "outputs": [
    {
     "data": {
      "text/plain": [
       "0.81"
      ]
     },
     "execution_count": 26,
     "metadata": {},
     "output_type": "execute_result"
    }
   ],
   "source": [
    "(df['Postal Code'].isnull().sum()/df.shape[0]).round(2) #percentage"
   ]
  },
  {
   "cell_type": "code",
   "execution_count": null,
   "id": "64204af7",
   "metadata": {},
   "outputs": [],
   "source": []
  },
  {
   "cell_type": "markdown",
   "id": "7ba9675e",
   "metadata": {},
   "source": [
    "# outliers for all affected variables"
   ]
  },
  {
   "cell_type": "code",
   "execution_count": 1,
   "id": "e2d3639b",
   "metadata": {},
   "outputs": [],
   "source": [
    "import seaborn as sns\n",
    "import matplotlib.pyplot as plt"
   ]
  },
  {
   "cell_type": "code",
   "execution_count": 46,
   "id": "e0724c97",
   "metadata": {},
   "outputs": [
    {
     "data": {
      "text/html": [
       "<div>\n",
       "<style scoped>\n",
       "    .dataframe tbody tr th:only-of-type {\n",
       "        vertical-align: middle;\n",
       "    }\n",
       "\n",
       "    .dataframe tbody tr th {\n",
       "        vertical-align: top;\n",
       "    }\n",
       "\n",
       "    .dataframe thead th {\n",
       "        text-align: right;\n",
       "    }\n",
       "</style>\n",
       "<table border=\"1\" class=\"dataframe\">\n",
       "  <thead>\n",
       "    <tr style=\"text-align: right;\">\n",
       "      <th></th>\n",
       "      <th>Postal Code</th>\n",
       "      <th>Sales</th>\n",
       "      <th>Quantity</th>\n",
       "      <th>Discount</th>\n",
       "      <th>Profit</th>\n",
       "      <th>Shipping Cost</th>\n",
       "    </tr>\n",
       "  </thead>\n",
       "  <tbody>\n",
       "    <tr>\n",
       "      <th>count</th>\n",
       "      <td>9994.000000</td>\n",
       "      <td>51290.000000</td>\n",
       "      <td>51290.000000</td>\n",
       "      <td>51290.000000</td>\n",
       "      <td>51290.000000</td>\n",
       "      <td>51290.000000</td>\n",
       "    </tr>\n",
       "    <tr>\n",
       "      <th>mean</th>\n",
       "      <td>55190.379428</td>\n",
       "      <td>246.490581</td>\n",
       "      <td>3.476545</td>\n",
       "      <td>0.142908</td>\n",
       "      <td>28.610982</td>\n",
       "      <td>26.478567</td>\n",
       "    </tr>\n",
       "    <tr>\n",
       "      <th>std</th>\n",
       "      <td>32063.693350</td>\n",
       "      <td>487.565361</td>\n",
       "      <td>2.278766</td>\n",
       "      <td>0.212280</td>\n",
       "      <td>174.340972</td>\n",
       "      <td>57.251373</td>\n",
       "    </tr>\n",
       "    <tr>\n",
       "      <th>min</th>\n",
       "      <td>1040.000000</td>\n",
       "      <td>0.444000</td>\n",
       "      <td>1.000000</td>\n",
       "      <td>0.000000</td>\n",
       "      <td>-6599.978000</td>\n",
       "      <td>1.002000</td>\n",
       "    </tr>\n",
       "    <tr>\n",
       "      <th>25%</th>\n",
       "      <td>23223.000000</td>\n",
       "      <td>30.758625</td>\n",
       "      <td>2.000000</td>\n",
       "      <td>0.000000</td>\n",
       "      <td>0.000000</td>\n",
       "      <td>2.610000</td>\n",
       "    </tr>\n",
       "    <tr>\n",
       "      <th>50%</th>\n",
       "      <td>56430.500000</td>\n",
       "      <td>85.053000</td>\n",
       "      <td>3.000000</td>\n",
       "      <td>0.000000</td>\n",
       "      <td>9.240000</td>\n",
       "      <td>7.790000</td>\n",
       "    </tr>\n",
       "    <tr>\n",
       "      <th>75%</th>\n",
       "      <td>90008.000000</td>\n",
       "      <td>251.053200</td>\n",
       "      <td>5.000000</td>\n",
       "      <td>0.200000</td>\n",
       "      <td>36.810000</td>\n",
       "      <td>24.450000</td>\n",
       "    </tr>\n",
       "    <tr>\n",
       "      <th>max</th>\n",
       "      <td>99301.000000</td>\n",
       "      <td>22638.480000</td>\n",
       "      <td>14.000000</td>\n",
       "      <td>0.850000</td>\n",
       "      <td>8399.976000</td>\n",
       "      <td>933.570000</td>\n",
       "    </tr>\n",
       "  </tbody>\n",
       "</table>\n",
       "</div>"
      ],
      "text/plain": [
       "        Postal Code         Sales      Quantity      Discount        Profit  \\\n",
       "count   9994.000000  51290.000000  51290.000000  51290.000000  51290.000000   \n",
       "mean   55190.379428    246.490581      3.476545      0.142908     28.610982   \n",
       "std    32063.693350    487.565361      2.278766      0.212280    174.340972   \n",
       "min     1040.000000      0.444000      1.000000      0.000000  -6599.978000   \n",
       "25%    23223.000000     30.758625      2.000000      0.000000      0.000000   \n",
       "50%    56430.500000     85.053000      3.000000      0.000000      9.240000   \n",
       "75%    90008.000000    251.053200      5.000000      0.200000     36.810000   \n",
       "max    99301.000000  22638.480000     14.000000      0.850000   8399.976000   \n",
       "\n",
       "       Shipping Cost  \n",
       "count   51290.000000  \n",
       "mean       26.478567  \n",
       "std        57.251373  \n",
       "min         1.002000  \n",
       "25%         2.610000  \n",
       "50%         7.790000  \n",
       "75%        24.450000  \n",
       "max       933.570000  "
      ]
     },
     "execution_count": 46,
     "metadata": {},
     "output_type": "execute_result"
    }
   ],
   "source": [
    "df.describe()"
   ]
  },
  {
   "cell_type": "code",
   "execution_count": 45,
   "id": "06ced75c",
   "metadata": {},
   "outputs": [
    {
     "data": {
      "text/plain": [
       "count     9994.000000\n",
       "mean     55190.379428\n",
       "std      32063.693350\n",
       "min       1040.000000\n",
       "25%      23223.000000\n",
       "50%      56430.500000\n",
       "75%      90008.000000\n",
       "max      99301.000000\n",
       "Name: Postal Code, dtype: float64"
      ]
     },
     "execution_count": 45,
     "metadata": {},
     "output_type": "execute_result"
    }
   ],
   "source": [
    "df['Postal Code'].describe()"
   ]
  },
  {
   "cell_type": "code",
   "execution_count": 31,
   "id": "fb9a9044",
   "metadata": {},
   "outputs": [
    {
     "data": {
      "text/plain": [
       "<AxesSubplot:xlabel='Postal Code'>"
      ]
     },
     "execution_count": 31,
     "metadata": {},
     "output_type": "execute_result"
    },
    {
     "data": {
      "image/png": "[encoded data removed]",
      "text/plain": [
       "<Figure size 432x288 with 1 Axes>"
      ]
     },
     "metadata": {
      "needs_background": "light"
     },
     "output_type": "display_data"
    }
   ],
   "source": [
    "sns.boxplot(data=df,x='Postal Code')"
   ]
  },
  {
   "cell_type": "code",
   "execution_count": 42,
   "id": "7093ce33",
   "metadata": {},
   "outputs": [
    {
     "data": {
      "text/plain": [
       "count    51290.0\n",
       "mean       246.5\n",
       "std        487.6\n",
       "min          0.4\n",
       "1%           3.7\n",
       "5%           8.8\n",
       "10%         13.7\n",
       "50%         85.1\n",
       "90%        632.2\n",
       "95%       1016.0\n",
       "99%       2301.0\n",
       "max      22638.5\n",
       "Name: Sales, dtype: float64"
      ]
     },
     "execution_count": 42,
     "metadata": {},
     "output_type": "execute_result"
    }
   ],
   "source": [
    "df['Sales'].describe([0.01,0.05,0.1,0.9,0.95,0.99]).round(1)\n"
   ]
  },
  {
   "cell_type": "code",
   "execution_count": 43,
   "id": "68be7a22",
   "metadata": {},
   "outputs": [
    {
     "data": {
      "text/plain": [
       "<AxesSubplot:xlabel='Sales'>"
      ]
     },
     "execution_count": 43,
     "metadata": {},
     "output_type": "execute_result"
    },
    {
     "data": {
      "image/png": "[encoded data removed]",
      "text/plain": [
       "<Figure size 1080x432 with 1 Axes>"
      ]
     },
     "metadata": {
      "needs_background": "light"
     },
     "output_type": "display_data"
    }
   ],
   "source": [
    "plt.figure(figsize=(15,6))\n",
    "sns.boxplot(data=df,x='Sales')"
   ]
  },
  {
   "cell_type": "code",
   "execution_count": 47,
   "id": "154dd3fb",
   "metadata": {},
   "outputs": [
    {
     "data": {
      "text/plain": [
       "count    51290.000000\n",
       "mean         3.476545\n",
       "std          2.278766\n",
       "min          1.000000\n",
       "25%          2.000000\n",
       "50%          3.000000\n",
       "75%          5.000000\n",
       "max         14.000000\n",
       "Name: Quantity, dtype: float64"
      ]
     },
     "execution_count": 47,
     "metadata": {},
     "output_type": "execute_result"
    }
   ],
   "source": [
    "df['Quantity'].describe()"
   ]
  },
  {
   "cell_type": "code",
   "execution_count": 44,
   "id": "16a92f92",
   "metadata": {},
   "outputs": [
    {
     "data": {
      "text/plain": [
       "<AxesSubplot:xlabel='Quantity'>"
      ]
     },
     "execution_count": 44,
     "metadata": {},
     "output_type": "execute_result"
    },
    {
     "data": {
      "image/png": "[encoded data removed]",
      "text/plain": [
       "<Figure size 1080x432 with 1 Axes>"
      ]
     },
     "metadata": {
      "needs_background": "light"
     },
     "output_type": "display_data"
    }
   ],
   "source": [
    "plt.figure(figsize=(15,6))\n",
    "sns.boxplot(data=df,x='Quantity')"
   ]
  },
  {
   "cell_type": "code",
   "execution_count": 48,
   "id": "7a9f9dcd",
   "metadata": {},
   "outputs": [
    {
     "data": {
      "text/plain": [
       "count    51290.000000\n",
       "mean         0.142908\n",
       "std          0.212280\n",
       "min          0.000000\n",
       "25%          0.000000\n",
       "50%          0.000000\n",
       "75%          0.200000\n",
       "max          0.850000\n",
       "Name: Discount, dtype: float64"
      ]
     },
     "execution_count": 48,
     "metadata": {},
     "output_type": "execute_result"
    }
   ],
   "source": [
    "df['Discount'].describe()"
   ]
  },
  {
   "cell_type": "code",
   "execution_count": 49,
   "id": "1d8439db",
   "metadata": {},
   "outputs": [
    {
     "data": {
      "text/plain": [
       "<AxesSubplot:xlabel='Discount'>"
      ]
     },
     "execution_count": 49,
     "metadata": {},
     "output_type": "execute_result"
    },
    {
     "data": {
      "image/png": "[encoded data removed]",
      "text/plain": [
       "<Figure size 1080x432 with 1 Axes>"
      ]
     },
     "metadata": {
      "needs_background": "light"
     },
     "output_type": "display_data"
    }
   ],
   "source": [
    "plt.figure(figsize=(15,6))\n",
    "sns.boxplot(data=df,x='Discount')"
   ]
  },
  {
   "cell_type": "code",
   "execution_count": 50,
   "id": "2a102f97",
   "metadata": {},
   "outputs": [
    {
     "data": {
      "text/plain": [
       "count    51290.000000\n",
       "mean        28.610982\n",
       "std        174.340972\n",
       "min      -6599.978000\n",
       "25%          0.000000\n",
       "50%          9.240000\n",
       "75%         36.810000\n",
       "max       8399.976000\n",
       "Name: Profit, dtype: float64"
      ]
     },
     "execution_count": 50,
     "metadata": {},
     "output_type": "execute_result"
    }
   ],
   "source": [
    "df['Profit'].describe()"
   ]
  },
  {
   "cell_type": "code",
   "execution_count": 51,
   "id": "91f878d8",
   "metadata": {},
   "outputs": [
    {
     "data": {
      "text/plain": [
       "<AxesSubplot:xlabel='Profit'>"
      ]
     },
     "execution_count": 51,
     "metadata": {},
     "output_type": "execute_result"
    },
    {
     "data": {
      "image/png": "[encoded data removed]",
      "text/plain": [
       "<Figure size 1080x432 with 1 Axes>"
      ]
     },
     "metadata": {
      "needs_background": "light"
     },
     "output_type": "display_data"
    }
   ],
   "source": [
    "plt.figure(figsize=(15,6))\n",
    "sns.boxplot(data=df,x='Profit')"
   ]
  },
  {
   "cell_type": "code",
   "execution_count": 52,
   "id": "5e33108a",
   "metadata": {},
   "outputs": [
    {
     "data": {
      "text/plain": [
       "count    51290.000000\n",
       "mean        26.478567\n",
       "std         57.251373\n",
       "min          1.002000\n",
       "25%          2.610000\n",
       "50%          7.790000\n",
       "75%         24.450000\n",
       "max        933.570000\n",
       "Name: Shipping Cost, dtype: float64"
      ]
     },
     "execution_count": 52,
     "metadata": {},
     "output_type": "execute_result"
    }
   ],
   "source": [
    "df['Shipping Cost'].describe()"
   ]
  },
  {
   "cell_type": "code",
   "execution_count": 53,
   "id": "6cdaa9a0",
   "metadata": {},
   "outputs": [
    {
     "data": {
      "text/plain": [
       "<AxesSubplot:xlabel='Shipping Cost'>"
      ]
     },
     "execution_count": 53,
     "metadata": {},
     "output_type": "execute_result"
    },
    {
     "data": {
      "image/png": "[encoded data removed]",
      "text/plain": [
       "<Figure size 1080x432 with 1 Axes>"
      ]
     },
     "metadata": {
      "needs_background": "light"
     },
     "output_type": "display_data"
    }
   ],
   "source": [
    "plt.figure(figsize=(15,6))\n",
    "sns.boxplot(data=df,x='Shipping Cost')"
   ]
  },
  {
   "cell_type": "code",
   "execution_count": null,
   "id": "d3ba7b61",
   "metadata": {},
   "outputs": [],
   "source": []
  },
  {
   "cell_type": "markdown",
   "id": "98371ec6",
   "metadata": {},
   "source": [
    "# cleaning of data"
   ]
  },
  {
   "cell_type": "code",
   "execution_count": 54,
   "id": "5001d299",
   "metadata": {},
   "outputs": [
    {
     "data": {
      "text/html": [
       "<div>\n",
       "<style scoped>\n",
       "    .dataframe tbody tr th:only-of-type {\n",
       "        vertical-align: middle;\n",
       "    }\n",
       "\n",
       "    .dataframe tbody tr th {\n",
       "        vertical-align: top;\n",
       "    }\n",
       "\n",
       "    .dataframe thead th {\n",
       "        text-align: right;\n",
       "    }\n",
       "</style>\n",
       "<table border=\"1\" class=\"dataframe\">\n",
       "  <thead>\n",
       "    <tr style=\"text-align: right;\">\n",
       "      <th></th>\n",
       "      <th>Order ID</th>\n",
       "      <th>Order Date</th>\n",
       "      <th>Ship Date</th>\n",
       "      <th>Ship Mode</th>\n",
       "      <th>Customer ID</th>\n",
       "      <th>Customer Name</th>\n",
       "      <th>Segment</th>\n",
       "      <th>Postal Code</th>\n",
       "      <th>City</th>\n",
       "      <th>State</th>\n",
       "      <th>...</th>\n",
       "      <th>Product ID</th>\n",
       "      <th>Category</th>\n",
       "      <th>Sub-Category</th>\n",
       "      <th>Product Name</th>\n",
       "      <th>Sales</th>\n",
       "      <th>Quantity</th>\n",
       "      <th>Discount</th>\n",
       "      <th>Profit</th>\n",
       "      <th>Shipping Cost</th>\n",
       "      <th>Order Priority</th>\n",
       "    </tr>\n",
       "  </thead>\n",
       "  <tbody>\n",
       "    <tr>\n",
       "      <th>0</th>\n",
       "      <td>False</td>\n",
       "      <td>False</td>\n",
       "      <td>False</td>\n",
       "      <td>False</td>\n",
       "      <td>False</td>\n",
       "      <td>False</td>\n",
       "      <td>False</td>\n",
       "      <td>False</td>\n",
       "      <td>False</td>\n",
       "      <td>False</td>\n",
       "      <td>...</td>\n",
       "      <td>False</td>\n",
       "      <td>False</td>\n",
       "      <td>False</td>\n",
       "      <td>False</td>\n",
       "      <td>False</td>\n",
       "      <td>False</td>\n",
       "      <td>False</td>\n",
       "      <td>False</td>\n",
       "      <td>False</td>\n",
       "      <td>False</td>\n",
       "    </tr>\n",
       "    <tr>\n",
       "      <th>1</th>\n",
       "      <td>False</td>\n",
       "      <td>False</td>\n",
       "      <td>False</td>\n",
       "      <td>False</td>\n",
       "      <td>False</td>\n",
       "      <td>False</td>\n",
       "      <td>False</td>\n",
       "      <td>True</td>\n",
       "      <td>False</td>\n",
       "      <td>False</td>\n",
       "      <td>...</td>\n",
       "      <td>False</td>\n",
       "      <td>False</td>\n",
       "      <td>False</td>\n",
       "      <td>False</td>\n",
       "      <td>False</td>\n",
       "      <td>False</td>\n",
       "      <td>False</td>\n",
       "      <td>False</td>\n",
       "      <td>False</td>\n",
       "      <td>False</td>\n",
       "    </tr>\n",
       "    <tr>\n",
       "      <th>2</th>\n",
       "      <td>False</td>\n",
       "      <td>False</td>\n",
       "      <td>False</td>\n",
       "      <td>False</td>\n",
       "      <td>False</td>\n",
       "      <td>False</td>\n",
       "      <td>False</td>\n",
       "      <td>True</td>\n",
       "      <td>False</td>\n",
       "      <td>False</td>\n",
       "      <td>...</td>\n",
       "      <td>False</td>\n",
       "      <td>False</td>\n",
       "      <td>False</td>\n",
       "      <td>False</td>\n",
       "      <td>False</td>\n",
       "      <td>False</td>\n",
       "      <td>False</td>\n",
       "      <td>False</td>\n",
       "      <td>False</td>\n",
       "      <td>False</td>\n",
       "    </tr>\n",
       "    <tr>\n",
       "      <th>3</th>\n",
       "      <td>False</td>\n",
       "      <td>False</td>\n",
       "      <td>False</td>\n",
       "      <td>False</td>\n",
       "      <td>False</td>\n",
       "      <td>False</td>\n",
       "      <td>False</td>\n",
       "      <td>True</td>\n",
       "      <td>False</td>\n",
       "      <td>False</td>\n",
       "      <td>...</td>\n",
       "      <td>False</td>\n",
       "      <td>False</td>\n",
       "      <td>False</td>\n",
       "      <td>False</td>\n",
       "      <td>False</td>\n",
       "      <td>False</td>\n",
       "      <td>False</td>\n",
       "      <td>False</td>\n",
       "      <td>False</td>\n",
       "      <td>False</td>\n",
       "    </tr>\n",
       "    <tr>\n",
       "      <th>4</th>\n",
       "      <td>False</td>\n",
       "      <td>False</td>\n",
       "      <td>False</td>\n",
       "      <td>False</td>\n",
       "      <td>False</td>\n",
       "      <td>False</td>\n",
       "      <td>False</td>\n",
       "      <td>True</td>\n",
       "      <td>False</td>\n",
       "      <td>False</td>\n",
       "      <td>...</td>\n",
       "      <td>False</td>\n",
       "      <td>False</td>\n",
       "      <td>False</td>\n",
       "      <td>False</td>\n",
       "      <td>False</td>\n",
       "      <td>False</td>\n",
       "      <td>False</td>\n",
       "      <td>False</td>\n",
       "      <td>False</td>\n",
       "      <td>False</td>\n",
       "    </tr>\n",
       "    <tr>\n",
       "      <th>...</th>\n",
       "      <td>...</td>\n",
       "      <td>...</td>\n",
       "      <td>...</td>\n",
       "      <td>...</td>\n",
       "      <td>...</td>\n",
       "      <td>...</td>\n",
       "      <td>...</td>\n",
       "      <td>...</td>\n",
       "      <td>...</td>\n",
       "      <td>...</td>\n",
       "      <td>...</td>\n",
       "      <td>...</td>\n",
       "      <td>...</td>\n",
       "      <td>...</td>\n",
       "      <td>...</td>\n",
       "      <td>...</td>\n",
       "      <td>...</td>\n",
       "      <td>...</td>\n",
       "      <td>...</td>\n",
       "      <td>...</td>\n",
       "      <td>...</td>\n",
       "    </tr>\n",
       "    <tr>\n",
       "      <th>51285</th>\n",
       "      <td>False</td>\n",
       "      <td>False</td>\n",
       "      <td>False</td>\n",
       "      <td>False</td>\n",
       "      <td>False</td>\n",
       "      <td>False</td>\n",
       "      <td>False</td>\n",
       "      <td>True</td>\n",
       "      <td>False</td>\n",
       "      <td>False</td>\n",
       "      <td>...</td>\n",
       "      <td>False</td>\n",
       "      <td>False</td>\n",
       "      <td>False</td>\n",
       "      <td>False</td>\n",
       "      <td>False</td>\n",
       "      <td>False</td>\n",
       "      <td>False</td>\n",
       "      <td>False</td>\n",
       "      <td>False</td>\n",
       "      <td>False</td>\n",
       "    </tr>\n",
       "    <tr>\n",
       "      <th>51286</th>\n",
       "      <td>False</td>\n",
       "      <td>False</td>\n",
       "      <td>False</td>\n",
       "      <td>False</td>\n",
       "      <td>False</td>\n",
       "      <td>False</td>\n",
       "      <td>False</td>\n",
       "      <td>False</td>\n",
       "      <td>False</td>\n",
       "      <td>False</td>\n",
       "      <td>...</td>\n",
       "      <td>False</td>\n",
       "      <td>False</td>\n",
       "      <td>False</td>\n",
       "      <td>False</td>\n",
       "      <td>False</td>\n",
       "      <td>False</td>\n",
       "      <td>False</td>\n",
       "      <td>False</td>\n",
       "      <td>False</td>\n",
       "      <td>False</td>\n",
       "    </tr>\n",
       "    <tr>\n",
       "      <th>51287</th>\n",
       "      <td>False</td>\n",
       "      <td>False</td>\n",
       "      <td>False</td>\n",
       "      <td>False</td>\n",
       "      <td>False</td>\n",
       "      <td>False</td>\n",
       "      <td>False</td>\n",
       "      <td>False</td>\n",
       "      <td>False</td>\n",
       "      <td>False</td>\n",
       "      <td>...</td>\n",
       "      <td>False</td>\n",
       "      <td>False</td>\n",
       "      <td>False</td>\n",
       "      <td>False</td>\n",
       "      <td>False</td>\n",
       "      <td>False</td>\n",
       "      <td>False</td>\n",
       "      <td>False</td>\n",
       "      <td>False</td>\n",
       "      <td>False</td>\n",
       "    </tr>\n",
       "    <tr>\n",
       "      <th>51288</th>\n",
       "      <td>False</td>\n",
       "      <td>False</td>\n",
       "      <td>False</td>\n",
       "      <td>False</td>\n",
       "      <td>False</td>\n",
       "      <td>False</td>\n",
       "      <td>False</td>\n",
       "      <td>True</td>\n",
       "      <td>False</td>\n",
       "      <td>False</td>\n",
       "      <td>...</td>\n",
       "      <td>False</td>\n",
       "      <td>False</td>\n",
       "      <td>False</td>\n",
       "      <td>False</td>\n",
       "      <td>False</td>\n",
       "      <td>False</td>\n",
       "      <td>False</td>\n",
       "      <td>False</td>\n",
       "      <td>False</td>\n",
       "      <td>False</td>\n",
       "    </tr>\n",
       "    <tr>\n",
       "      <th>51289</th>\n",
       "      <td>False</td>\n",
       "      <td>False</td>\n",
       "      <td>False</td>\n",
       "      <td>False</td>\n",
       "      <td>False</td>\n",
       "      <td>False</td>\n",
       "      <td>False</td>\n",
       "      <td>True</td>\n",
       "      <td>False</td>\n",
       "      <td>False</td>\n",
       "      <td>...</td>\n",
       "      <td>False</td>\n",
       "      <td>False</td>\n",
       "      <td>False</td>\n",
       "      <td>False</td>\n",
       "      <td>False</td>\n",
       "      <td>False</td>\n",
       "      <td>False</td>\n",
       "      <td>False</td>\n",
       "      <td>False</td>\n",
       "      <td>False</td>\n",
       "    </tr>\n",
       "  </tbody>\n",
       "</table>\n",
       "<p>51290 rows × 23 columns</p>\n",
       "</div>"
      ],
      "text/plain": [
       "       Order ID  Order Date  Ship Date  Ship Mode  Customer ID  Customer Name  \\\n",
       "0         False       False      False      False        False          False   \n",
       "1         False       False      False      False        False          False   \n",
       "2         False       False      False      False        False          False   \n",
       "3         False       False      False      False        False          False   \n",
       "4         False       False      False      False        False          False   \n",
       "...         ...         ...        ...        ...          ...            ...   \n",
       "51285     False       False      False      False        False          False   \n",
       "51286     False       False      False      False        False          False   \n",
       "51287     False       False      False      False        False          False   \n",
       "51288     False       False      False      False        False          False   \n",
       "51289     False       False      False      False        False          False   \n",
       "\n",
       "       Segment  Postal Code   City  State  ...  Product ID  Category  \\\n",
       "0        False        False  False  False  ...       False     False   \n",
       "1        False         True  False  False  ...       False     False   \n",
       "2        False         True  False  False  ...       False     False   \n",
       "3        False         True  False  False  ...       False     False   \n",
       "4        False         True  False  False  ...       False     False   \n",
       "...        ...          ...    ...    ...  ...         ...       ...   \n",
       "51285    False         True  False  False  ...       False     False   \n",
       "51286    False        False  False  False  ...       False     False   \n",
       "51287    False        False  False  False  ...       False     False   \n",
       "51288    False         True  False  False  ...       False     False   \n",
       "51289    False         True  False  False  ...       False     False   \n",
       "\n",
       "       Sub-Category  Product Name  Sales  Quantity  Discount  Profit  \\\n",
       "0             False         False  False     False     False   False   \n",
       "1             False         False  False     False     False   False   \n",
       "2             False         False  False     False     False   False   \n",
       "3             False         False  False     False     False   False   \n",
       "4             False         False  False     False     False   False   \n",
       "...             ...           ...    ...       ...       ...     ...   \n",
       "51285         False         False  False     False     False   False   \n",
       "51286         False         False  False     False     False   False   \n",
       "51287         False         False  False     False     False   False   \n",
       "51288         False         False  False     False     False   False   \n",
       "51289         False         False  False     False     False   False   \n",
       "\n",
       "       Shipping Cost  Order Priority  \n",
       "0              False           False  \n",
       "1              False           False  \n",
       "2              False           False  \n",
       "3              False           False  \n",
       "4              False           False  \n",
       "...              ...             ...  \n",
       "51285          False           False  \n",
       "51286          False           False  \n",
       "51287          False           False  \n",
       "51288          False           False  \n",
       "51289          False           False  \n",
       "\n",
       "[51290 rows x 23 columns]"
      ]
     },
     "execution_count": 54,
     "metadata": {},
     "output_type": "execute_result"
    }
   ],
   "source": [
    "df.isnull()"
   ]
  },
  {
   "cell_type": "code",
   "execution_count": 55,
   "id": "5a154884",
   "metadata": {},
   "outputs": [
    {
     "data": {
      "text/plain": [
       "Order ID          False\n",
       "Order Date        False\n",
       "Ship Date         False\n",
       "Ship Mode         False\n",
       "Customer ID       False\n",
       "Customer Name     False\n",
       "Segment           False\n",
       "Postal Code       False\n",
       "City              False\n",
       "State             False\n",
       "Country           False\n",
       "Region            False\n",
       "Market            False\n",
       "Product ID        False\n",
       "Category          False\n",
       "Sub-Category      False\n",
       "Product Name      False\n",
       "Sales             False\n",
       "Quantity          False\n",
       "Discount          False\n",
       "Profit            False\n",
       "Shipping Cost     False\n",
       "Order Priority    False\n",
       "dtype: bool"
      ]
     },
     "execution_count": 55,
     "metadata": {},
     "output_type": "execute_result"
    }
   ],
   "source": [
    "df.isnull().all()"
   ]
  },
  {
   "cell_type": "code",
   "execution_count": 56,
   "id": "6b6ce917",
   "metadata": {},
   "outputs": [
    {
     "data": {
      "text/plain": [
       "Order ID          False\n",
       "Order Date        False\n",
       "Ship Date         False\n",
       "Ship Mode         False\n",
       "Customer ID       False\n",
       "Customer Name     False\n",
       "Segment           False\n",
       "Postal Code        True\n",
       "City              False\n",
       "State             False\n",
       "Country           False\n",
       "Region            False\n",
       "Market            False\n",
       "Product ID        False\n",
       "Category          False\n",
       "Sub-Category      False\n",
       "Product Name      False\n",
       "Sales             False\n",
       "Quantity          False\n",
       "Discount          False\n",
       "Profit            False\n",
       "Shipping Cost     False\n",
       "Order Priority    False\n",
       "dtype: bool"
      ]
     },
     "execution_count": 56,
     "metadata": {},
     "output_type": "execute_result"
    }
   ],
   "source": [
    "df.isnull().any()"
   ]
  },
  {
   "cell_type": "code",
   "execution_count": 57,
   "id": "222676d6",
   "metadata": {},
   "outputs": [
    {
     "data": {
      "text/plain": [
       "Index(['Postal Code'], dtype='object')"
      ]
     },
     "execution_count": 57,
     "metadata": {},
     "output_type": "execute_result"
    }
   ],
   "source": [
    "df.columns[df.isnull().any()]"
   ]
  },
  {
   "cell_type": "code",
   "execution_count": 64,
   "id": "f024ed44",
   "metadata": {},
   "outputs": [
    {
     "data": {
      "text/html": [
       "<div>\n",
       "<style scoped>\n",
       "    .dataframe tbody tr th:only-of-type {\n",
       "        vertical-align: middle;\n",
       "    }\n",
       "\n",
       "    .dataframe tbody tr th {\n",
       "        vertical-align: top;\n",
       "    }\n",
       "\n",
       "    .dataframe thead th {\n",
       "        text-align: right;\n",
       "    }\n",
       "</style>\n",
       "<table border=\"1\" class=\"dataframe\">\n",
       "  <thead>\n",
       "    <tr style=\"text-align: right;\">\n",
       "      <th></th>\n",
       "      <th>Order ID</th>\n",
       "      <th>Order Date</th>\n",
       "      <th>Ship Date</th>\n",
       "      <th>Ship Mode</th>\n",
       "      <th>Customer ID</th>\n",
       "      <th>Customer Name</th>\n",
       "      <th>Segment</th>\n",
       "      <th>Postal Code</th>\n",
       "      <th>City</th>\n",
       "      <th>State</th>\n",
       "      <th>...</th>\n",
       "      <th>Product ID</th>\n",
       "      <th>Category</th>\n",
       "      <th>Sub-Category</th>\n",
       "      <th>Product Name</th>\n",
       "      <th>Sales</th>\n",
       "      <th>Quantity</th>\n",
       "      <th>Discount</th>\n",
       "      <th>Profit</th>\n",
       "      <th>Shipping Cost</th>\n",
       "      <th>Order Priority</th>\n",
       "    </tr>\n",
       "  </thead>\n",
       "  <tbody>\n",
       "    <tr>\n",
       "      <th>0</th>\n",
       "      <td>CA-2014-AB10015140-41954</td>\n",
       "      <td>2014-11-11</td>\n",
       "      <td>2014-11-13</td>\n",
       "      <td>First Class</td>\n",
       "      <td>AB-100151402</td>\n",
       "      <td>Aaron Bergman</td>\n",
       "      <td>Consumer</td>\n",
       "      <td>73120.0</td>\n",
       "      <td>Oklahoma City</td>\n",
       "      <td>Oklahoma</td>\n",
       "      <td>...</td>\n",
       "      <td>TEC-PH-5816</td>\n",
       "      <td>Technology</td>\n",
       "      <td>Phones</td>\n",
       "      <td>Samsung Convoy 3</td>\n",
       "      <td>221.980</td>\n",
       "      <td>2</td>\n",
       "      <td>0.0</td>\n",
       "      <td>62.1544</td>\n",
       "      <td>40.77</td>\n",
       "      <td>High</td>\n",
       "    </tr>\n",
       "    <tr>\n",
       "      <th>8</th>\n",
       "      <td>CA-2014-AB10015140-41954</td>\n",
       "      <td>2014-11-11</td>\n",
       "      <td>2014-11-13</td>\n",
       "      <td>First Class</td>\n",
       "      <td>AB-100151402</td>\n",
       "      <td>Aaron Bergman</td>\n",
       "      <td>Consumer</td>\n",
       "      <td>73120.0</td>\n",
       "      <td>Oklahoma City</td>\n",
       "      <td>Oklahoma</td>\n",
       "      <td>...</td>\n",
       "      <td>FUR-BO-5957</td>\n",
       "      <td>Furniture</td>\n",
       "      <td>Bookcases</td>\n",
       "      <td>Sauder Facets Collection Library, Sky Alder Fi...</td>\n",
       "      <td>341.960</td>\n",
       "      <td>2</td>\n",
       "      <td>0.0</td>\n",
       "      <td>54.7136</td>\n",
       "      <td>25.27</td>\n",
       "      <td>High</td>\n",
       "    </tr>\n",
       "    <tr>\n",
       "      <th>9</th>\n",
       "      <td>CA-2012-AB10015140-40974</td>\n",
       "      <td>2012-03-06</td>\n",
       "      <td>2012-03-07</td>\n",
       "      <td>First Class</td>\n",
       "      <td>AB-100151404</td>\n",
       "      <td>Aaron Bergman</td>\n",
       "      <td>Consumer</td>\n",
       "      <td>98103.0</td>\n",
       "      <td>Seattle</td>\n",
       "      <td>Washington</td>\n",
       "      <td>...</td>\n",
       "      <td>FUR-CH-4421</td>\n",
       "      <td>Furniture</td>\n",
       "      <td>Chairs</td>\n",
       "      <td>Global Push Button Manager's Chair, Indigo</td>\n",
       "      <td>48.712</td>\n",
       "      <td>1</td>\n",
       "      <td>0.2</td>\n",
       "      <td>5.4801</td>\n",
       "      <td>11.13</td>\n",
       "      <td>High</td>\n",
       "    </tr>\n",
       "    <tr>\n",
       "      <th>10</th>\n",
       "      <td>CA-2012-AB10015140-40974</td>\n",
       "      <td>2012-03-06</td>\n",
       "      <td>2012-03-07</td>\n",
       "      <td>First Class</td>\n",
       "      <td>AB-100151404</td>\n",
       "      <td>Aaron Bergman</td>\n",
       "      <td>Consumer</td>\n",
       "      <td>98103.0</td>\n",
       "      <td>Seattle</td>\n",
       "      <td>Washington</td>\n",
       "      <td>...</td>\n",
       "      <td>OFF-AR-5309</td>\n",
       "      <td>Office Supplies</td>\n",
       "      <td>Art</td>\n",
       "      <td>Newell 330</td>\n",
       "      <td>17.940</td>\n",
       "      <td>3</td>\n",
       "      <td>0.0</td>\n",
       "      <td>4.6644</td>\n",
       "      <td>4.29</td>\n",
       "      <td>High</td>\n",
       "    </tr>\n",
       "    <tr>\n",
       "      <th>16</th>\n",
       "      <td>CA-2012-AB10015140-40958</td>\n",
       "      <td>2012-02-19</td>\n",
       "      <td>2012-02-25</td>\n",
       "      <td>Standard Class</td>\n",
       "      <td>AB-100151402</td>\n",
       "      <td>Aaron Bergman</td>\n",
       "      <td>Consumer</td>\n",
       "      <td>76017.0</td>\n",
       "      <td>Arlington</td>\n",
       "      <td>Texas</td>\n",
       "      <td>...</td>\n",
       "      <td>OFF-ST-3078</td>\n",
       "      <td>Office Supplies</td>\n",
       "      <td>Storage</td>\n",
       "      <td>Akro Stacking Bins</td>\n",
       "      <td>12.624</td>\n",
       "      <td>2</td>\n",
       "      <td>0.2</td>\n",
       "      <td>-2.5248</td>\n",
       "      <td>1.97</td>\n",
       "      <td>Low</td>\n",
       "    </tr>\n",
       "    <tr>\n",
       "      <th>...</th>\n",
       "      <td>...</td>\n",
       "      <td>...</td>\n",
       "      <td>...</td>\n",
       "      <td>...</td>\n",
       "      <td>...</td>\n",
       "      <td>...</td>\n",
       "      <td>...</td>\n",
       "      <td>...</td>\n",
       "      <td>...</td>\n",
       "      <td>...</td>\n",
       "      <td>...</td>\n",
       "      <td>...</td>\n",
       "      <td>...</td>\n",
       "      <td>...</td>\n",
       "      <td>...</td>\n",
       "      <td>...</td>\n",
       "      <td>...</td>\n",
       "      <td>...</td>\n",
       "      <td>...</td>\n",
       "      <td>...</td>\n",
       "      <td>...</td>\n",
       "    </tr>\n",
       "    <tr>\n",
       "      <th>51271</th>\n",
       "      <td>CA-2014-ZD21925140-41733</td>\n",
       "      <td>2014-04-04</td>\n",
       "      <td>2014-04-10</td>\n",
       "      <td>Standard Class</td>\n",
       "      <td>ZD-219251402</td>\n",
       "      <td>Zuschuss Donatelli</td>\n",
       "      <td>Consumer</td>\n",
       "      <td>47374.0</td>\n",
       "      <td>Richmond</td>\n",
       "      <td>Indiana</td>\n",
       "      <td>...</td>\n",
       "      <td>FUR-FU-5983</td>\n",
       "      <td>Furniture</td>\n",
       "      <td>Furnishings</td>\n",
       "      <td>Seth Thomas 13 1/2\" Wall Clock</td>\n",
       "      <td>71.120</td>\n",
       "      <td>4</td>\n",
       "      <td>0.0</td>\n",
       "      <td>22.0472</td>\n",
       "      <td>7.30</td>\n",
       "      <td>Medium</td>\n",
       "    </tr>\n",
       "    <tr>\n",
       "      <th>51276</th>\n",
       "      <td>CA-2012-ZD21925140-41147</td>\n",
       "      <td>2012-08-26</td>\n",
       "      <td>2012-08-31</td>\n",
       "      <td>Second Class</td>\n",
       "      <td>ZD-219251404</td>\n",
       "      <td>Zuschuss Donatelli</td>\n",
       "      <td>Consumer</td>\n",
       "      <td>94109.0</td>\n",
       "      <td>San Francisco</td>\n",
       "      <td>California</td>\n",
       "      <td>...</td>\n",
       "      <td>OFF-BI-6395</td>\n",
       "      <td>Office Supplies</td>\n",
       "      <td>Binders</td>\n",
       "      <td>Wilson Jones Hanging View Binder, White, 1\"</td>\n",
       "      <td>22.720</td>\n",
       "      <td>4</td>\n",
       "      <td>0.2</td>\n",
       "      <td>7.3840</td>\n",
       "      <td>3.21</td>\n",
       "      <td>High</td>\n",
       "    </tr>\n",
       "    <tr>\n",
       "      <th>51280</th>\n",
       "      <td>CA-2014-ZD21925140-41829</td>\n",
       "      <td>2014-07-09</td>\n",
       "      <td>2014-07-09</td>\n",
       "      <td>Same Day</td>\n",
       "      <td>ZD-219251408</td>\n",
       "      <td>Zuschuss Donatelli</td>\n",
       "      <td>Consumer</td>\n",
       "      <td>32216.0</td>\n",
       "      <td>Jacksonville</td>\n",
       "      <td>Florida</td>\n",
       "      <td>...</td>\n",
       "      <td>OFF-PA-6474</td>\n",
       "      <td>Office Supplies</td>\n",
       "      <td>Paper</td>\n",
       "      <td>Xerox 1921</td>\n",
       "      <td>15.984</td>\n",
       "      <td>2</td>\n",
       "      <td>0.2</td>\n",
       "      <td>4.9950</td>\n",
       "      <td>2.01</td>\n",
       "      <td>Medium</td>\n",
       "    </tr>\n",
       "    <tr>\n",
       "      <th>51286</th>\n",
       "      <td>US-2014-ZD21925140-41765</td>\n",
       "      <td>2014-05-06</td>\n",
       "      <td>2014-05-10</td>\n",
       "      <td>Standard Class</td>\n",
       "      <td>ZD-219251408</td>\n",
       "      <td>Zuschuss Donatelli</td>\n",
       "      <td>Consumer</td>\n",
       "      <td>37421.0</td>\n",
       "      <td>Chattanooga</td>\n",
       "      <td>Tennessee</td>\n",
       "      <td>...</td>\n",
       "      <td>FUR-FU-4070</td>\n",
       "      <td>Furniture</td>\n",
       "      <td>Furnishings</td>\n",
       "      <td>Eldon Image Series Desk Accessories, Burgundy</td>\n",
       "      <td>16.720</td>\n",
       "      <td>5</td>\n",
       "      <td>0.2</td>\n",
       "      <td>3.3440</td>\n",
       "      <td>1.93</td>\n",
       "      <td>High</td>\n",
       "    </tr>\n",
       "    <tr>\n",
       "      <th>51287</th>\n",
       "      <td>CA-2012-ZD21925140-41147</td>\n",
       "      <td>2012-08-26</td>\n",
       "      <td>2012-08-31</td>\n",
       "      <td>Second Class</td>\n",
       "      <td>ZD-219251404</td>\n",
       "      <td>Zuschuss Donatelli</td>\n",
       "      <td>Consumer</td>\n",
       "      <td>94109.0</td>\n",
       "      <td>San Francisco</td>\n",
       "      <td>California</td>\n",
       "      <td>...</td>\n",
       "      <td>OFF-AR-5321</td>\n",
       "      <td>Office Supplies</td>\n",
       "      <td>Art</td>\n",
       "      <td>Newell 341</td>\n",
       "      <td>8.560</td>\n",
       "      <td>2</td>\n",
       "      <td>0.0</td>\n",
       "      <td>2.4824</td>\n",
       "      <td>1.58</td>\n",
       "      <td>High</td>\n",
       "    </tr>\n",
       "  </tbody>\n",
       "</table>\n",
       "<p>9994 rows × 23 columns</p>\n",
       "</div>"
      ],
      "text/plain": [
       "                       Order ID Order Date  Ship Date       Ship Mode  \\\n",
       "0      CA-2014-AB10015140-41954 2014-11-11 2014-11-13     First Class   \n",
       "8      CA-2014-AB10015140-41954 2014-11-11 2014-11-13     First Class   \n",
       "9      CA-2012-AB10015140-40974 2012-03-06 2012-03-07     First Class   \n",
       "10     CA-2012-AB10015140-40974 2012-03-06 2012-03-07     First Class   \n",
       "16     CA-2012-AB10015140-40958 2012-02-19 2012-02-25  Standard Class   \n",
       "...                         ...        ...        ...             ...   \n",
       "51271  CA-2014-ZD21925140-41733 2014-04-04 2014-04-10  Standard Class   \n",
       "51276  CA-2012-ZD21925140-41147 2012-08-26 2012-08-31    Second Class   \n",
       "51280  CA-2014-ZD21925140-41829 2014-07-09 2014-07-09        Same Day   \n",
       "51286  US-2014-ZD21925140-41765 2014-05-06 2014-05-10  Standard Class   \n",
       "51287  CA-2012-ZD21925140-41147 2012-08-26 2012-08-31    Second Class   \n",
       "\n",
       "        Customer ID       Customer Name   Segment  Postal Code           City  \\\n",
       "0      AB-100151402       Aaron Bergman  Consumer      73120.0  Oklahoma City   \n",
       "8      AB-100151402       Aaron Bergman  Consumer      73120.0  Oklahoma City   \n",
       "9      AB-100151404       Aaron Bergman  Consumer      98103.0        Seattle   \n",
       "10     AB-100151404       Aaron Bergman  Consumer      98103.0        Seattle   \n",
       "16     AB-100151402       Aaron Bergman  Consumer      76017.0      Arlington   \n",
       "...             ...                 ...       ...          ...            ...   \n",
       "51271  ZD-219251402  Zuschuss Donatelli  Consumer      47374.0       Richmond   \n",
       "51276  ZD-219251404  Zuschuss Donatelli  Consumer      94109.0  San Francisco   \n",
       "51280  ZD-219251408  Zuschuss Donatelli  Consumer      32216.0   Jacksonville   \n",
       "51286  ZD-219251408  Zuschuss Donatelli  Consumer      37421.0    Chattanooga   \n",
       "51287  ZD-219251404  Zuschuss Donatelli  Consumer      94109.0  San Francisco   \n",
       "\n",
       "            State  ...   Product ID         Category Sub-Category  \\\n",
       "0        Oklahoma  ...  TEC-PH-5816       Technology       Phones   \n",
       "8        Oklahoma  ...  FUR-BO-5957        Furniture    Bookcases   \n",
       "9      Washington  ...  FUR-CH-4421        Furniture       Chairs   \n",
       "10     Washington  ...  OFF-AR-5309  Office Supplies          Art   \n",
       "16          Texas  ...  OFF-ST-3078  Office Supplies      Storage   \n",
       "...           ...  ...          ...              ...          ...   \n",
       "51271     Indiana  ...  FUR-FU-5983        Furniture  Furnishings   \n",
       "51276  California  ...  OFF-BI-6395  Office Supplies      Binders   \n",
       "51280     Florida  ...  OFF-PA-6474  Office Supplies        Paper   \n",
       "51286   Tennessee  ...  FUR-FU-4070        Furniture  Furnishings   \n",
       "51287  California  ...  OFF-AR-5321  Office Supplies          Art   \n",
       "\n",
       "                                            Product Name    Sales Quantity  \\\n",
       "0                                       Samsung Convoy 3  221.980        2   \n",
       "8      Sauder Facets Collection Library, Sky Alder Fi...  341.960        2   \n",
       "9             Global Push Button Manager's Chair, Indigo   48.712        1   \n",
       "10                                            Newell 330   17.940        3   \n",
       "16                                    Akro Stacking Bins   12.624        2   \n",
       "...                                                  ...      ...      ...   \n",
       "51271                     Seth Thomas 13 1/2\" Wall Clock   71.120        4   \n",
       "51276        Wilson Jones Hanging View Binder, White, 1\"   22.720        4   \n",
       "51280                                         Xerox 1921   15.984        2   \n",
       "51286      Eldon Image Series Desk Accessories, Burgundy   16.720        5   \n",
       "51287                                         Newell 341    8.560        2   \n",
       "\n",
       "      Discount   Profit  Shipping Cost  Order Priority  \n",
       "0          0.0  62.1544          40.77            High  \n",
       "8          0.0  54.7136          25.27            High  \n",
       "9          0.2   5.4801          11.13            High  \n",
       "10         0.0   4.6644           4.29            High  \n",
       "16         0.2  -2.5248           1.97             Low  \n",
       "...        ...      ...            ...             ...  \n",
       "51271      0.0  22.0472           7.30          Medium  \n",
       "51276      0.2   7.3840           3.21            High  \n",
       "51280      0.2   4.9950           2.01          Medium  \n",
       "51286      0.2   3.3440           1.93            High  \n",
       "51287      0.0   2.4824           1.58            High  \n",
       "\n",
       "[9994 rows x 23 columns]"
      ]
     },
     "execution_count": 64,
     "metadata": {},
     "output_type": "execute_result"
    }
   ],
   "source": [
    "df.dropna(how='any')"
   ]
  },
  {
   "cell_type": "code",
   "execution_count": 67,
   "id": "5f887ccc",
   "metadata": {},
   "outputs": [
    {
     "data": {
      "text/html": [
       "<div>\n",
       "<style scoped>\n",
       "    .dataframe tbody tr th:only-of-type {\n",
       "        vertical-align: middle;\n",
       "    }\n",
       "\n",
       "    .dataframe tbody tr th {\n",
       "        vertical-align: top;\n",
       "    }\n",
       "\n",
       "    .dataframe thead th {\n",
       "        text-align: right;\n",
       "    }\n",
       "</style>\n",
       "<table border=\"1\" class=\"dataframe\">\n",
       "  <thead>\n",
       "    <tr style=\"text-align: right;\">\n",
       "      <th></th>\n",
       "      <th>Order ID</th>\n",
       "      <th>Order Date</th>\n",
       "      <th>Ship Date</th>\n",
       "      <th>Ship Mode</th>\n",
       "      <th>Customer ID</th>\n",
       "      <th>Customer Name</th>\n",
       "      <th>Segment</th>\n",
       "      <th>City</th>\n",
       "      <th>State</th>\n",
       "      <th>Country</th>\n",
       "      <th>...</th>\n",
       "      <th>Product ID</th>\n",
       "      <th>Category</th>\n",
       "      <th>Sub-Category</th>\n",
       "      <th>Product Name</th>\n",
       "      <th>Sales</th>\n",
       "      <th>Quantity</th>\n",
       "      <th>Discount</th>\n",
       "      <th>Profit</th>\n",
       "      <th>Shipping Cost</th>\n",
       "      <th>Order Priority</th>\n",
       "    </tr>\n",
       "  </thead>\n",
       "  <tbody>\n",
       "    <tr>\n",
       "      <th>0</th>\n",
       "      <td>CA-2014-AB10015140-41954</td>\n",
       "      <td>2014-11-11</td>\n",
       "      <td>2014-11-13</td>\n",
       "      <td>First Class</td>\n",
       "      <td>AB-100151402</td>\n",
       "      <td>Aaron Bergman</td>\n",
       "      <td>Consumer</td>\n",
       "      <td>Oklahoma City</td>\n",
       "      <td>Oklahoma</td>\n",
       "      <td>United States</td>\n",
       "      <td>...</td>\n",
       "      <td>TEC-PH-5816</td>\n",
       "      <td>Technology</td>\n",
       "      <td>Phones</td>\n",
       "      <td>Samsung Convoy 3</td>\n",
       "      <td>221.980</td>\n",
       "      <td>2</td>\n",
       "      <td>0.0</td>\n",
       "      <td>62.1544</td>\n",
       "      <td>40.770</td>\n",
       "      <td>High</td>\n",
       "    </tr>\n",
       "    <tr>\n",
       "      <th>1</th>\n",
       "      <td>IN-2014-JR162107-41675</td>\n",
       "      <td>2014-02-05</td>\n",
       "      <td>2014-02-07</td>\n",
       "      <td>Second Class</td>\n",
       "      <td>JR-162107</td>\n",
       "      <td>Justin Ritter</td>\n",
       "      <td>Corporate</td>\n",
       "      <td>Wollongong</td>\n",
       "      <td>New South Wales</td>\n",
       "      <td>Australia</td>\n",
       "      <td>...</td>\n",
       "      <td>FUR-CH-5379</td>\n",
       "      <td>Furniture</td>\n",
       "      <td>Chairs</td>\n",
       "      <td>Novimex Executive Leather Armchair, Black</td>\n",
       "      <td>3709.395</td>\n",
       "      <td>9</td>\n",
       "      <td>0.1</td>\n",
       "      <td>-288.7650</td>\n",
       "      <td>923.630</td>\n",
       "      <td>Critical</td>\n",
       "    </tr>\n",
       "    <tr>\n",
       "      <th>2</th>\n",
       "      <td>IN-2014-CR127307-41929</td>\n",
       "      <td>2014-10-17</td>\n",
       "      <td>2014-10-18</td>\n",
       "      <td>First Class</td>\n",
       "      <td>CR-127307</td>\n",
       "      <td>Craig Reiter</td>\n",
       "      <td>Consumer</td>\n",
       "      <td>Brisbane</td>\n",
       "      <td>Queensland</td>\n",
       "      <td>Australia</td>\n",
       "      <td>...</td>\n",
       "      <td>TEC-PH-5356</td>\n",
       "      <td>Technology</td>\n",
       "      <td>Phones</td>\n",
       "      <td>Nokia Smart Phone, with Caller ID</td>\n",
       "      <td>5175.171</td>\n",
       "      <td>9</td>\n",
       "      <td>0.1</td>\n",
       "      <td>919.9710</td>\n",
       "      <td>915.490</td>\n",
       "      <td>Medium</td>\n",
       "    </tr>\n",
       "    <tr>\n",
       "      <th>3</th>\n",
       "      <td>ES-2014-KM1637548-41667</td>\n",
       "      <td>2014-01-28</td>\n",
       "      <td>2014-01-30</td>\n",
       "      <td>First Class</td>\n",
       "      <td>KM-1637548</td>\n",
       "      <td>Katherine Murray</td>\n",
       "      <td>Home Office</td>\n",
       "      <td>Berlin</td>\n",
       "      <td>Berlin</td>\n",
       "      <td>Germany</td>\n",
       "      <td>...</td>\n",
       "      <td>TEC-PH-5267</td>\n",
       "      <td>Technology</td>\n",
       "      <td>Phones</td>\n",
       "      <td>Motorola Smart Phone, Cordless</td>\n",
       "      <td>2892.510</td>\n",
       "      <td>5</td>\n",
       "      <td>0.1</td>\n",
       "      <td>-96.5400</td>\n",
       "      <td>910.160</td>\n",
       "      <td>Medium</td>\n",
       "    </tr>\n",
       "    <tr>\n",
       "      <th>4</th>\n",
       "      <td>SG-2014-RH9495111-41948</td>\n",
       "      <td>2014-11-05</td>\n",
       "      <td>2014-11-06</td>\n",
       "      <td>Same Day</td>\n",
       "      <td>RH-9495111</td>\n",
       "      <td>Rick Hansen</td>\n",
       "      <td>Consumer</td>\n",
       "      <td>Dakar</td>\n",
       "      <td>Dakar</td>\n",
       "      <td>Senegal</td>\n",
       "      <td>...</td>\n",
       "      <td>TEC-CO-6011</td>\n",
       "      <td>Technology</td>\n",
       "      <td>Copiers</td>\n",
       "      <td>Sharp Wireless Fax, High-Speed</td>\n",
       "      <td>2832.960</td>\n",
       "      <td>8</td>\n",
       "      <td>0.0</td>\n",
       "      <td>311.5200</td>\n",
       "      <td>903.040</td>\n",
       "      <td>Critical</td>\n",
       "    </tr>\n",
       "    <tr>\n",
       "      <th>...</th>\n",
       "      <td>...</td>\n",
       "      <td>...</td>\n",
       "      <td>...</td>\n",
       "      <td>...</td>\n",
       "      <td>...</td>\n",
       "      <td>...</td>\n",
       "      <td>...</td>\n",
       "      <td>...</td>\n",
       "      <td>...</td>\n",
       "      <td>...</td>\n",
       "      <td>...</td>\n",
       "      <td>...</td>\n",
       "      <td>...</td>\n",
       "      <td>...</td>\n",
       "      <td>...</td>\n",
       "      <td>...</td>\n",
       "      <td>...</td>\n",
       "      <td>...</td>\n",
       "      <td>...</td>\n",
       "      <td>...</td>\n",
       "      <td>...</td>\n",
       "    </tr>\n",
       "    <tr>\n",
       "      <th>51285</th>\n",
       "      <td>IN-2015-KE1642066-42174</td>\n",
       "      <td>2015-06-19</td>\n",
       "      <td>2015-06-19</td>\n",
       "      <td>Same Day</td>\n",
       "      <td>KE-1642066</td>\n",
       "      <td>Katrina Edelman</td>\n",
       "      <td>Corporate</td>\n",
       "      <td>Kure</td>\n",
       "      <td>Hiroshima</td>\n",
       "      <td>Japan</td>\n",
       "      <td>...</td>\n",
       "      <td>OFF-FA-3072</td>\n",
       "      <td>Office Supplies</td>\n",
       "      <td>Fasteners</td>\n",
       "      <td>Advantus Thumb Tacks, 12 Pack</td>\n",
       "      <td>65.100</td>\n",
       "      <td>5</td>\n",
       "      <td>0.0</td>\n",
       "      <td>4.5000</td>\n",
       "      <td>1.010</td>\n",
       "      <td>Medium</td>\n",
       "    </tr>\n",
       "    <tr>\n",
       "      <th>51286</th>\n",
       "      <td>US-2014-ZD21925140-41765</td>\n",
       "      <td>2014-05-06</td>\n",
       "      <td>2014-05-10</td>\n",
       "      <td>Standard Class</td>\n",
       "      <td>ZD-219251408</td>\n",
       "      <td>Zuschuss Donatelli</td>\n",
       "      <td>Consumer</td>\n",
       "      <td>Chattanooga</td>\n",
       "      <td>Tennessee</td>\n",
       "      <td>United States</td>\n",
       "      <td>...</td>\n",
       "      <td>FUR-FU-4070</td>\n",
       "      <td>Furniture</td>\n",
       "      <td>Furnishings</td>\n",
       "      <td>Eldon Image Series Desk Accessories, Burgundy</td>\n",
       "      <td>16.720</td>\n",
       "      <td>5</td>\n",
       "      <td>0.2</td>\n",
       "      <td>3.3440</td>\n",
       "      <td>1.930</td>\n",
       "      <td>High</td>\n",
       "    </tr>\n",
       "    <tr>\n",
       "      <th>51287</th>\n",
       "      <td>CA-2012-ZD21925140-41147</td>\n",
       "      <td>2012-08-26</td>\n",
       "      <td>2012-08-31</td>\n",
       "      <td>Second Class</td>\n",
       "      <td>ZD-219251404</td>\n",
       "      <td>Zuschuss Donatelli</td>\n",
       "      <td>Consumer</td>\n",
       "      <td>San Francisco</td>\n",
       "      <td>California</td>\n",
       "      <td>United States</td>\n",
       "      <td>...</td>\n",
       "      <td>OFF-AR-5321</td>\n",
       "      <td>Office Supplies</td>\n",
       "      <td>Art</td>\n",
       "      <td>Newell 341</td>\n",
       "      <td>8.560</td>\n",
       "      <td>2</td>\n",
       "      <td>0.0</td>\n",
       "      <td>2.4824</td>\n",
       "      <td>1.580</td>\n",
       "      <td>High</td>\n",
       "    </tr>\n",
       "    <tr>\n",
       "      <th>51288</th>\n",
       "      <td>MX-2013-RB1979518-41322</td>\n",
       "      <td>2013-02-17</td>\n",
       "      <td>2013-02-21</td>\n",
       "      <td>Standard Class</td>\n",
       "      <td>RB-1979518</td>\n",
       "      <td>Ross Baird</td>\n",
       "      <td>Home Office</td>\n",
       "      <td>Valinhos</td>\n",
       "      <td>São Paulo</td>\n",
       "      <td>Brazil</td>\n",
       "      <td>...</td>\n",
       "      <td>OFF-BI-2919</td>\n",
       "      <td>Office Supplies</td>\n",
       "      <td>Binders</td>\n",
       "      <td>Acco Index Tab, Economy</td>\n",
       "      <td>13.440</td>\n",
       "      <td>2</td>\n",
       "      <td>0.0</td>\n",
       "      <td>2.4000</td>\n",
       "      <td>1.003</td>\n",
       "      <td>Medium</td>\n",
       "    </tr>\n",
       "    <tr>\n",
       "      <th>51289</th>\n",
       "      <td>MX-2013-MC1810093-41416</td>\n",
       "      <td>2013-05-22</td>\n",
       "      <td>2013-05-26</td>\n",
       "      <td>Second Class</td>\n",
       "      <td>MC-1810093</td>\n",
       "      <td>Mick Crebagga</td>\n",
       "      <td>Consumer</td>\n",
       "      <td>Tipitapa</td>\n",
       "      <td>Managua</td>\n",
       "      <td>Nicaragua</td>\n",
       "      <td>...</td>\n",
       "      <td>OFF-PA-3990</td>\n",
       "      <td>Office Supplies</td>\n",
       "      <td>Paper</td>\n",
       "      <td>Eaton Computer Printout Paper, 8.5 x 11</td>\n",
       "      <td>61.380</td>\n",
       "      <td>3</td>\n",
       "      <td>0.0</td>\n",
       "      <td>1.8000</td>\n",
       "      <td>1.002</td>\n",
       "      <td>High</td>\n",
       "    </tr>\n",
       "  </tbody>\n",
       "</table>\n",
       "<p>51290 rows × 22 columns</p>\n",
       "</div>"
      ],
      "text/plain": [
       "                       Order ID Order Date  Ship Date       Ship Mode  \\\n",
       "0      CA-2014-AB10015140-41954 2014-11-11 2014-11-13     First Class   \n",
       "1        IN-2014-JR162107-41675 2014-02-05 2014-02-07    Second Class   \n",
       "2        IN-2014-CR127307-41929 2014-10-17 2014-10-18     First Class   \n",
       "3       ES-2014-KM1637548-41667 2014-01-28 2014-01-30     First Class   \n",
       "4       SG-2014-RH9495111-41948 2014-11-05 2014-11-06        Same Day   \n",
       "...                         ...        ...        ...             ...   \n",
       "51285   IN-2015-KE1642066-42174 2015-06-19 2015-06-19        Same Day   \n",
       "51286  US-2014-ZD21925140-41765 2014-05-06 2014-05-10  Standard Class   \n",
       "51287  CA-2012-ZD21925140-41147 2012-08-26 2012-08-31    Second Class   \n",
       "51288   MX-2013-RB1979518-41322 2013-02-17 2013-02-21  Standard Class   \n",
       "51289   MX-2013-MC1810093-41416 2013-05-22 2013-05-26    Second Class   \n",
       "\n",
       "        Customer ID       Customer Name      Segment           City  \\\n",
       "0      AB-100151402       Aaron Bergman     Consumer  Oklahoma City   \n",
       "1         JR-162107       Justin Ritter    Corporate     Wollongong   \n",
       "2         CR-127307        Craig Reiter     Consumer       Brisbane   \n",
       "3        KM-1637548    Katherine Murray  Home Office         Berlin   \n",
       "4        RH-9495111         Rick Hansen     Consumer          Dakar   \n",
       "...             ...                 ...          ...            ...   \n",
       "51285    KE-1642066     Katrina Edelman    Corporate           Kure   \n",
       "51286  ZD-219251408  Zuschuss Donatelli     Consumer    Chattanooga   \n",
       "51287  ZD-219251404  Zuschuss Donatelli     Consumer  San Francisco   \n",
       "51288    RB-1979518          Ross Baird  Home Office       Valinhos   \n",
       "51289    MC-1810093       Mick Crebagga     Consumer       Tipitapa   \n",
       "\n",
       "                 State        Country  ...   Product ID         Category  \\\n",
       "0             Oklahoma  United States  ...  TEC-PH-5816       Technology   \n",
       "1      New South Wales      Australia  ...  FUR-CH-5379        Furniture   \n",
       "2           Queensland      Australia  ...  TEC-PH-5356       Technology   \n",
       "3               Berlin        Germany  ...  TEC-PH-5267       Technology   \n",
       "4                Dakar        Senegal  ...  TEC-CO-6011       Technology   \n",
       "...                ...            ...  ...          ...              ...   \n",
       "51285        Hiroshima          Japan  ...  OFF-FA-3072  Office Supplies   \n",
       "51286        Tennessee  United States  ...  FUR-FU-4070        Furniture   \n",
       "51287       California  United States  ...  OFF-AR-5321  Office Supplies   \n",
       "51288        São Paulo         Brazil  ...  OFF-BI-2919  Office Supplies   \n",
       "51289          Managua      Nicaragua  ...  OFF-PA-3990  Office Supplies   \n",
       "\n",
       "      Sub-Category                                   Product Name     Sales  \\\n",
       "0           Phones                               Samsung Convoy 3   221.980   \n",
       "1           Chairs      Novimex Executive Leather Armchair, Black  3709.395   \n",
       "2           Phones              Nokia Smart Phone, with Caller ID  5175.171   \n",
       "3           Phones                 Motorola Smart Phone, Cordless  2892.510   \n",
       "4          Copiers                 Sharp Wireless Fax, High-Speed  2832.960   \n",
       "...            ...                                            ...       ...   \n",
       "51285    Fasteners                  Advantus Thumb Tacks, 12 Pack    65.100   \n",
       "51286  Furnishings  Eldon Image Series Desk Accessories, Burgundy    16.720   \n",
       "51287          Art                                     Newell 341     8.560   \n",
       "51288      Binders                        Acco Index Tab, Economy    13.440   \n",
       "51289        Paper        Eaton Computer Printout Paper, 8.5 x 11    61.380   \n",
       "\n",
       "      Quantity  Discount    Profit  Shipping Cost  Order Priority  \n",
       "0            2       0.0   62.1544         40.770            High  \n",
       "1            9       0.1 -288.7650        923.630        Critical  \n",
       "2            9       0.1  919.9710        915.490          Medium  \n",
       "3            5       0.1  -96.5400        910.160          Medium  \n",
       "4            8       0.0  311.5200        903.040        Critical  \n",
       "...        ...       ...       ...            ...             ...  \n",
       "51285        5       0.0    4.5000          1.010          Medium  \n",
       "51286        5       0.2    3.3440          1.930            High  \n",
       "51287        2       0.0    2.4824          1.580            High  \n",
       "51288        2       0.0    2.4000          1.003          Medium  \n",
       "51289        3       0.0    1.8000          1.002            High  \n",
       "\n",
       "[51290 rows x 22 columns]"
      ]
     },
     "execution_count": 67,
     "metadata": {},
     "output_type": "execute_result"
    }
   ],
   "source": [
    "d=df.dropna(how='any',axis=1)\n",
    "d"
   ]
  },
  {
   "cell_type": "code",
   "execution_count": 69,
   "id": "7e15c9e9",
   "metadata": {},
   "outputs": [
    {
     "data": {
      "text/html": [
       "<div>\n",
       "<style scoped>\n",
       "    .dataframe tbody tr th:only-of-type {\n",
       "        vertical-align: middle;\n",
       "    }\n",
       "\n",
       "    .dataframe tbody tr th {\n",
       "        vertical-align: top;\n",
       "    }\n",
       "\n",
       "    .dataframe thead th {\n",
       "        text-align: right;\n",
       "    }\n",
       "</style>\n",
       "<table border=\"1\" class=\"dataframe\">\n",
       "  <thead>\n",
       "    <tr style=\"text-align: right;\">\n",
       "      <th></th>\n",
       "      <th>Order ID</th>\n",
       "      <th>Order Date</th>\n",
       "      <th>Ship Date</th>\n",
       "      <th>Ship Mode</th>\n",
       "      <th>Customer ID</th>\n",
       "      <th>Customer Name</th>\n",
       "      <th>Segment</th>\n",
       "      <th>Postal Code</th>\n",
       "      <th>City</th>\n",
       "      <th>State</th>\n",
       "      <th>...</th>\n",
       "      <th>Product ID</th>\n",
       "      <th>Category</th>\n",
       "      <th>Sub-Category</th>\n",
       "      <th>Product Name</th>\n",
       "      <th>Sales</th>\n",
       "      <th>Quantity</th>\n",
       "      <th>Discount</th>\n",
       "      <th>Profit</th>\n",
       "      <th>Shipping Cost</th>\n",
       "      <th>Order Priority</th>\n",
       "    </tr>\n",
       "  </thead>\n",
       "  <tbody>\n",
       "    <tr>\n",
       "      <th>1</th>\n",
       "      <td>IN-2014-JR162107-41675</td>\n",
       "      <td>2014-02-05</td>\n",
       "      <td>2014-02-07</td>\n",
       "      <td>Second Class</td>\n",
       "      <td>JR-162107</td>\n",
       "      <td>Justin Ritter</td>\n",
       "      <td>Corporate</td>\n",
       "      <td>NaN</td>\n",
       "      <td>Wollongong</td>\n",
       "      <td>New South Wales</td>\n",
       "      <td>...</td>\n",
       "      <td>FUR-CH-5379</td>\n",
       "      <td>Furniture</td>\n",
       "      <td>Chairs</td>\n",
       "      <td>Novimex Executive Leather Armchair, Black</td>\n",
       "      <td>3709.395</td>\n",
       "      <td>9</td>\n",
       "      <td>0.1</td>\n",
       "      <td>-288.765</td>\n",
       "      <td>923.630</td>\n",
       "      <td>Critical</td>\n",
       "    </tr>\n",
       "    <tr>\n",
       "      <th>2</th>\n",
       "      <td>IN-2014-CR127307-41929</td>\n",
       "      <td>2014-10-17</td>\n",
       "      <td>2014-10-18</td>\n",
       "      <td>First Class</td>\n",
       "      <td>CR-127307</td>\n",
       "      <td>Craig Reiter</td>\n",
       "      <td>Consumer</td>\n",
       "      <td>NaN</td>\n",
       "      <td>Brisbane</td>\n",
       "      <td>Queensland</td>\n",
       "      <td>...</td>\n",
       "      <td>TEC-PH-5356</td>\n",
       "      <td>Technology</td>\n",
       "      <td>Phones</td>\n",
       "      <td>Nokia Smart Phone, with Caller ID</td>\n",
       "      <td>5175.171</td>\n",
       "      <td>9</td>\n",
       "      <td>0.1</td>\n",
       "      <td>919.971</td>\n",
       "      <td>915.490</td>\n",
       "      <td>Medium</td>\n",
       "    </tr>\n",
       "    <tr>\n",
       "      <th>3</th>\n",
       "      <td>ES-2014-KM1637548-41667</td>\n",
       "      <td>2014-01-28</td>\n",
       "      <td>2014-01-30</td>\n",
       "      <td>First Class</td>\n",
       "      <td>KM-1637548</td>\n",
       "      <td>Katherine Murray</td>\n",
       "      <td>Home Office</td>\n",
       "      <td>NaN</td>\n",
       "      <td>Berlin</td>\n",
       "      <td>Berlin</td>\n",
       "      <td>...</td>\n",
       "      <td>TEC-PH-5267</td>\n",
       "      <td>Technology</td>\n",
       "      <td>Phones</td>\n",
       "      <td>Motorola Smart Phone, Cordless</td>\n",
       "      <td>2892.510</td>\n",
       "      <td>5</td>\n",
       "      <td>0.1</td>\n",
       "      <td>-96.540</td>\n",
       "      <td>910.160</td>\n",
       "      <td>Medium</td>\n",
       "    </tr>\n",
       "    <tr>\n",
       "      <th>4</th>\n",
       "      <td>SG-2014-RH9495111-41948</td>\n",
       "      <td>2014-11-05</td>\n",
       "      <td>2014-11-06</td>\n",
       "      <td>Same Day</td>\n",
       "      <td>RH-9495111</td>\n",
       "      <td>Rick Hansen</td>\n",
       "      <td>Consumer</td>\n",
       "      <td>NaN</td>\n",
       "      <td>Dakar</td>\n",
       "      <td>Dakar</td>\n",
       "      <td>...</td>\n",
       "      <td>TEC-CO-6011</td>\n",
       "      <td>Technology</td>\n",
       "      <td>Copiers</td>\n",
       "      <td>Sharp Wireless Fax, High-Speed</td>\n",
       "      <td>2832.960</td>\n",
       "      <td>8</td>\n",
       "      <td>0.0</td>\n",
       "      <td>311.520</td>\n",
       "      <td>903.040</td>\n",
       "      <td>Critical</td>\n",
       "    </tr>\n",
       "    <tr>\n",
       "      <th>5</th>\n",
       "      <td>IN-2014-JM156557-41818</td>\n",
       "      <td>2014-06-28</td>\n",
       "      <td>2014-07-01</td>\n",
       "      <td>Second Class</td>\n",
       "      <td>JM-156557</td>\n",
       "      <td>Jim Mitchum</td>\n",
       "      <td>Corporate</td>\n",
       "      <td>NaN</td>\n",
       "      <td>Sydney</td>\n",
       "      <td>New South Wales</td>\n",
       "      <td>...</td>\n",
       "      <td>TEC-PH-5842</td>\n",
       "      <td>Technology</td>\n",
       "      <td>Phones</td>\n",
       "      <td>Samsung Smart Phone, with Caller ID</td>\n",
       "      <td>2862.675</td>\n",
       "      <td>5</td>\n",
       "      <td>0.1</td>\n",
       "      <td>763.275</td>\n",
       "      <td>897.350</td>\n",
       "      <td>Critical</td>\n",
       "    </tr>\n",
       "    <tr>\n",
       "      <th>...</th>\n",
       "      <td>...</td>\n",
       "      <td>...</td>\n",
       "      <td>...</td>\n",
       "      <td>...</td>\n",
       "      <td>...</td>\n",
       "      <td>...</td>\n",
       "      <td>...</td>\n",
       "      <td>...</td>\n",
       "      <td>...</td>\n",
       "      <td>...</td>\n",
       "      <td>...</td>\n",
       "      <td>...</td>\n",
       "      <td>...</td>\n",
       "      <td>...</td>\n",
       "      <td>...</td>\n",
       "      <td>...</td>\n",
       "      <td>...</td>\n",
       "      <td>...</td>\n",
       "      <td>...</td>\n",
       "      <td>...</td>\n",
       "      <td>...</td>\n",
       "    </tr>\n",
       "    <tr>\n",
       "      <th>51283</th>\n",
       "      <td>IN-2015-KH1633058-42154</td>\n",
       "      <td>2015-05-30</td>\n",
       "      <td>2015-05-30</td>\n",
       "      <td>Same Day</td>\n",
       "      <td>KH-1633058</td>\n",
       "      <td>Katharine Harms</td>\n",
       "      <td>Corporate</td>\n",
       "      <td>NaN</td>\n",
       "      <td>Lucknow</td>\n",
       "      <td>Uttar Pradesh</td>\n",
       "      <td>...</td>\n",
       "      <td>OFF-PA-4007</td>\n",
       "      <td>Office Supplies</td>\n",
       "      <td>Paper</td>\n",
       "      <td>Eaton Parchment Paper, Premium</td>\n",
       "      <td>26.940</td>\n",
       "      <td>2</td>\n",
       "      <td>0.0</td>\n",
       "      <td>1.860</td>\n",
       "      <td>1.010</td>\n",
       "      <td>High</td>\n",
       "    </tr>\n",
       "    <tr>\n",
       "      <th>51284</th>\n",
       "      <td>MX-2013-KM1637593-41636</td>\n",
       "      <td>2013-12-28</td>\n",
       "      <td>2013-12-31</td>\n",
       "      <td>First Class</td>\n",
       "      <td>KM-1637593</td>\n",
       "      <td>Katherine Murray</td>\n",
       "      <td>Home Office</td>\n",
       "      <td>NaN</td>\n",
       "      <td>Managua</td>\n",
       "      <td>Managua</td>\n",
       "      <td>...</td>\n",
       "      <td>OFF-PA-5876</td>\n",
       "      <td>Office Supplies</td>\n",
       "      <td>Paper</td>\n",
       "      <td>SanDisk Message Books, 8.5 x 11</td>\n",
       "      <td>18.640</td>\n",
       "      <td>1</td>\n",
       "      <td>0.0</td>\n",
       "      <td>8.000</td>\n",
       "      <td>1.010</td>\n",
       "      <td>Medium</td>\n",
       "    </tr>\n",
       "    <tr>\n",
       "      <th>51285</th>\n",
       "      <td>IN-2015-KE1642066-42174</td>\n",
       "      <td>2015-06-19</td>\n",
       "      <td>2015-06-19</td>\n",
       "      <td>Same Day</td>\n",
       "      <td>KE-1642066</td>\n",
       "      <td>Katrina Edelman</td>\n",
       "      <td>Corporate</td>\n",
       "      <td>NaN</td>\n",
       "      <td>Kure</td>\n",
       "      <td>Hiroshima</td>\n",
       "      <td>...</td>\n",
       "      <td>OFF-FA-3072</td>\n",
       "      <td>Office Supplies</td>\n",
       "      <td>Fasteners</td>\n",
       "      <td>Advantus Thumb Tacks, 12 Pack</td>\n",
       "      <td>65.100</td>\n",
       "      <td>5</td>\n",
       "      <td>0.0</td>\n",
       "      <td>4.500</td>\n",
       "      <td>1.010</td>\n",
       "      <td>Medium</td>\n",
       "    </tr>\n",
       "    <tr>\n",
       "      <th>51288</th>\n",
       "      <td>MX-2013-RB1979518-41322</td>\n",
       "      <td>2013-02-17</td>\n",
       "      <td>2013-02-21</td>\n",
       "      <td>Standard Class</td>\n",
       "      <td>RB-1979518</td>\n",
       "      <td>Ross Baird</td>\n",
       "      <td>Home Office</td>\n",
       "      <td>NaN</td>\n",
       "      <td>Valinhos</td>\n",
       "      <td>São Paulo</td>\n",
       "      <td>...</td>\n",
       "      <td>OFF-BI-2919</td>\n",
       "      <td>Office Supplies</td>\n",
       "      <td>Binders</td>\n",
       "      <td>Acco Index Tab, Economy</td>\n",
       "      <td>13.440</td>\n",
       "      <td>2</td>\n",
       "      <td>0.0</td>\n",
       "      <td>2.400</td>\n",
       "      <td>1.003</td>\n",
       "      <td>Medium</td>\n",
       "    </tr>\n",
       "    <tr>\n",
       "      <th>51289</th>\n",
       "      <td>MX-2013-MC1810093-41416</td>\n",
       "      <td>2013-05-22</td>\n",
       "      <td>2013-05-26</td>\n",
       "      <td>Second Class</td>\n",
       "      <td>MC-1810093</td>\n",
       "      <td>Mick Crebagga</td>\n",
       "      <td>Consumer</td>\n",
       "      <td>NaN</td>\n",
       "      <td>Tipitapa</td>\n",
       "      <td>Managua</td>\n",
       "      <td>...</td>\n",
       "      <td>OFF-PA-3990</td>\n",
       "      <td>Office Supplies</td>\n",
       "      <td>Paper</td>\n",
       "      <td>Eaton Computer Printout Paper, 8.5 x 11</td>\n",
       "      <td>61.380</td>\n",
       "      <td>3</td>\n",
       "      <td>0.0</td>\n",
       "      <td>1.800</td>\n",
       "      <td>1.002</td>\n",
       "      <td>High</td>\n",
       "    </tr>\n",
       "  </tbody>\n",
       "</table>\n",
       "<p>41296 rows × 23 columns</p>\n",
       "</div>"
      ],
      "text/plain": [
       "                      Order ID Order Date  Ship Date       Ship Mode  \\\n",
       "1       IN-2014-JR162107-41675 2014-02-05 2014-02-07    Second Class   \n",
       "2       IN-2014-CR127307-41929 2014-10-17 2014-10-18     First Class   \n",
       "3      ES-2014-KM1637548-41667 2014-01-28 2014-01-30     First Class   \n",
       "4      SG-2014-RH9495111-41948 2014-11-05 2014-11-06        Same Day   \n",
       "5       IN-2014-JM156557-41818 2014-06-28 2014-07-01    Second Class   \n",
       "...                        ...        ...        ...             ...   \n",
       "51283  IN-2015-KH1633058-42154 2015-05-30 2015-05-30        Same Day   \n",
       "51284  MX-2013-KM1637593-41636 2013-12-28 2013-12-31     First Class   \n",
       "51285  IN-2015-KE1642066-42174 2015-06-19 2015-06-19        Same Day   \n",
       "51288  MX-2013-RB1979518-41322 2013-02-17 2013-02-21  Standard Class   \n",
       "51289  MX-2013-MC1810093-41416 2013-05-22 2013-05-26    Second Class   \n",
       "\n",
       "      Customer ID     Customer Name      Segment  Postal Code        City  \\\n",
       "1       JR-162107     Justin Ritter    Corporate          NaN  Wollongong   \n",
       "2       CR-127307      Craig Reiter     Consumer          NaN    Brisbane   \n",
       "3      KM-1637548  Katherine Murray  Home Office          NaN      Berlin   \n",
       "4      RH-9495111       Rick Hansen     Consumer          NaN       Dakar   \n",
       "5       JM-156557       Jim Mitchum    Corporate          NaN      Sydney   \n",
       "...           ...               ...          ...          ...         ...   \n",
       "51283  KH-1633058   Katharine Harms    Corporate          NaN     Lucknow   \n",
       "51284  KM-1637593  Katherine Murray  Home Office          NaN     Managua   \n",
       "51285  KE-1642066   Katrina Edelman    Corporate          NaN        Kure   \n",
       "51288  RB-1979518        Ross Baird  Home Office          NaN    Valinhos   \n",
       "51289  MC-1810093     Mick Crebagga     Consumer          NaN    Tipitapa   \n",
       "\n",
       "                 State  ...   Product ID         Category Sub-Category  \\\n",
       "1      New South Wales  ...  FUR-CH-5379        Furniture       Chairs   \n",
       "2           Queensland  ...  TEC-PH-5356       Technology       Phones   \n",
       "3               Berlin  ...  TEC-PH-5267       Technology       Phones   \n",
       "4                Dakar  ...  TEC-CO-6011       Technology      Copiers   \n",
       "5      New South Wales  ...  TEC-PH-5842       Technology       Phones   \n",
       "...                ...  ...          ...              ...          ...   \n",
       "51283    Uttar Pradesh  ...  OFF-PA-4007  Office Supplies        Paper   \n",
       "51284          Managua  ...  OFF-PA-5876  Office Supplies        Paper   \n",
       "51285        Hiroshima  ...  OFF-FA-3072  Office Supplies    Fasteners   \n",
       "51288        São Paulo  ...  OFF-BI-2919  Office Supplies      Binders   \n",
       "51289          Managua  ...  OFF-PA-3990  Office Supplies        Paper   \n",
       "\n",
       "                                    Product Name     Sales Quantity Discount  \\\n",
       "1      Novimex Executive Leather Armchair, Black  3709.395        9      0.1   \n",
       "2              Nokia Smart Phone, with Caller ID  5175.171        9      0.1   \n",
       "3                 Motorola Smart Phone, Cordless  2892.510        5      0.1   \n",
       "4                 Sharp Wireless Fax, High-Speed  2832.960        8      0.0   \n",
       "5            Samsung Smart Phone, with Caller ID  2862.675        5      0.1   \n",
       "...                                          ...       ...      ...      ...   \n",
       "51283             Eaton Parchment Paper, Premium    26.940        2      0.0   \n",
       "51284            SanDisk Message Books, 8.5 x 11    18.640        1      0.0   \n",
       "51285              Advantus Thumb Tacks, 12 Pack    65.100        5      0.0   \n",
       "51288                    Acco Index Tab, Economy    13.440        2      0.0   \n",
       "51289    Eaton Computer Printout Paper, 8.5 x 11    61.380        3      0.0   \n",
       "\n",
       "        Profit  Shipping Cost  Order Priority  \n",
       "1     -288.765        923.630        Critical  \n",
       "2      919.971        915.490          Medium  \n",
       "3      -96.540        910.160          Medium  \n",
       "4      311.520        903.040        Critical  \n",
       "5      763.275        897.350        Critical  \n",
       "...        ...            ...             ...  \n",
       "51283    1.860          1.010            High  \n",
       "51284    8.000          1.010          Medium  \n",
       "51285    4.500          1.010          Medium  \n",
       "51288    2.400          1.003          Medium  \n",
       "51289    1.800          1.002            High  \n",
       "\n",
       "[41296 rows x 23 columns]"
      ]
     },
     "execution_count": 69,
     "metadata": {},
     "output_type": "execute_result"
    }
   ],
   "source": [
    "df[df['Postal Code'].isnull()]"
   ]
  },
  {
   "cell_type": "code",
   "execution_count": 70,
   "id": "faacf74e",
   "metadata": {},
   "outputs": [
    {
     "data": {
      "text/html": [
       "<div>\n",
       "<style scoped>\n",
       "    .dataframe tbody tr th:only-of-type {\n",
       "        vertical-align: middle;\n",
       "    }\n",
       "\n",
       "    .dataframe tbody tr th {\n",
       "        vertical-align: top;\n",
       "    }\n",
       "\n",
       "    .dataframe thead th {\n",
       "        text-align: right;\n",
       "    }\n",
       "</style>\n",
       "<table border=\"1\" class=\"dataframe\">\n",
       "  <thead>\n",
       "    <tr style=\"text-align: right;\">\n",
       "      <th></th>\n",
       "      <th>Order ID</th>\n",
       "      <th>Order Date</th>\n",
       "      <th>Ship Date</th>\n",
       "      <th>Ship Mode</th>\n",
       "      <th>Customer ID</th>\n",
       "      <th>Customer Name</th>\n",
       "      <th>Segment</th>\n",
       "      <th>Postal Code</th>\n",
       "      <th>City</th>\n",
       "      <th>State</th>\n",
       "      <th>...</th>\n",
       "      <th>Product ID</th>\n",
       "      <th>Category</th>\n",
       "      <th>Sub-Category</th>\n",
       "      <th>Product Name</th>\n",
       "      <th>Sales</th>\n",
       "      <th>Quantity</th>\n",
       "      <th>Discount</th>\n",
       "      <th>Profit</th>\n",
       "      <th>Shipping Cost</th>\n",
       "      <th>Order Priority</th>\n",
       "    </tr>\n",
       "  </thead>\n",
       "  <tbody>\n",
       "    <tr>\n",
       "      <th>0</th>\n",
       "      <td>CA-2014-AB10015140-41954</td>\n",
       "      <td>2014-11-11</td>\n",
       "      <td>2014-11-13</td>\n",
       "      <td>First Class</td>\n",
       "      <td>AB-100151402</td>\n",
       "      <td>Aaron Bergman</td>\n",
       "      <td>Consumer</td>\n",
       "      <td>73120.0</td>\n",
       "      <td>Oklahoma City</td>\n",
       "      <td>Oklahoma</td>\n",
       "      <td>...</td>\n",
       "      <td>TEC-PH-5816</td>\n",
       "      <td>Technology</td>\n",
       "      <td>Phones</td>\n",
       "      <td>Samsung Convoy 3</td>\n",
       "      <td>221.980</td>\n",
       "      <td>2</td>\n",
       "      <td>0.0</td>\n",
       "      <td>62.1544</td>\n",
       "      <td>40.77</td>\n",
       "      <td>High</td>\n",
       "    </tr>\n",
       "    <tr>\n",
       "      <th>8</th>\n",
       "      <td>CA-2014-AB10015140-41954</td>\n",
       "      <td>2014-11-11</td>\n",
       "      <td>2014-11-13</td>\n",
       "      <td>First Class</td>\n",
       "      <td>AB-100151402</td>\n",
       "      <td>Aaron Bergman</td>\n",
       "      <td>Consumer</td>\n",
       "      <td>73120.0</td>\n",
       "      <td>Oklahoma City</td>\n",
       "      <td>Oklahoma</td>\n",
       "      <td>...</td>\n",
       "      <td>FUR-BO-5957</td>\n",
       "      <td>Furniture</td>\n",
       "      <td>Bookcases</td>\n",
       "      <td>Sauder Facets Collection Library, Sky Alder Fi...</td>\n",
       "      <td>341.960</td>\n",
       "      <td>2</td>\n",
       "      <td>0.0</td>\n",
       "      <td>54.7136</td>\n",
       "      <td>25.27</td>\n",
       "      <td>High</td>\n",
       "    </tr>\n",
       "    <tr>\n",
       "      <th>9</th>\n",
       "      <td>CA-2012-AB10015140-40974</td>\n",
       "      <td>2012-03-06</td>\n",
       "      <td>2012-03-07</td>\n",
       "      <td>First Class</td>\n",
       "      <td>AB-100151404</td>\n",
       "      <td>Aaron Bergman</td>\n",
       "      <td>Consumer</td>\n",
       "      <td>98103.0</td>\n",
       "      <td>Seattle</td>\n",
       "      <td>Washington</td>\n",
       "      <td>...</td>\n",
       "      <td>FUR-CH-4421</td>\n",
       "      <td>Furniture</td>\n",
       "      <td>Chairs</td>\n",
       "      <td>Global Push Button Manager's Chair, Indigo</td>\n",
       "      <td>48.712</td>\n",
       "      <td>1</td>\n",
       "      <td>0.2</td>\n",
       "      <td>5.4801</td>\n",
       "      <td>11.13</td>\n",
       "      <td>High</td>\n",
       "    </tr>\n",
       "    <tr>\n",
       "      <th>10</th>\n",
       "      <td>CA-2012-AB10015140-40974</td>\n",
       "      <td>2012-03-06</td>\n",
       "      <td>2012-03-07</td>\n",
       "      <td>First Class</td>\n",
       "      <td>AB-100151404</td>\n",
       "      <td>Aaron Bergman</td>\n",
       "      <td>Consumer</td>\n",
       "      <td>98103.0</td>\n",
       "      <td>Seattle</td>\n",
       "      <td>Washington</td>\n",
       "      <td>...</td>\n",
       "      <td>OFF-AR-5309</td>\n",
       "      <td>Office Supplies</td>\n",
       "      <td>Art</td>\n",
       "      <td>Newell 330</td>\n",
       "      <td>17.940</td>\n",
       "      <td>3</td>\n",
       "      <td>0.0</td>\n",
       "      <td>4.6644</td>\n",
       "      <td>4.29</td>\n",
       "      <td>High</td>\n",
       "    </tr>\n",
       "    <tr>\n",
       "      <th>16</th>\n",
       "      <td>CA-2012-AB10015140-40958</td>\n",
       "      <td>2012-02-19</td>\n",
       "      <td>2012-02-25</td>\n",
       "      <td>Standard Class</td>\n",
       "      <td>AB-100151402</td>\n",
       "      <td>Aaron Bergman</td>\n",
       "      <td>Consumer</td>\n",
       "      <td>76017.0</td>\n",
       "      <td>Arlington</td>\n",
       "      <td>Texas</td>\n",
       "      <td>...</td>\n",
       "      <td>OFF-ST-3078</td>\n",
       "      <td>Office Supplies</td>\n",
       "      <td>Storage</td>\n",
       "      <td>Akro Stacking Bins</td>\n",
       "      <td>12.624</td>\n",
       "      <td>2</td>\n",
       "      <td>0.2</td>\n",
       "      <td>-2.5248</td>\n",
       "      <td>1.97</td>\n",
       "      <td>Low</td>\n",
       "    </tr>\n",
       "    <tr>\n",
       "      <th>...</th>\n",
       "      <td>...</td>\n",
       "      <td>...</td>\n",
       "      <td>...</td>\n",
       "      <td>...</td>\n",
       "      <td>...</td>\n",
       "      <td>...</td>\n",
       "      <td>...</td>\n",
       "      <td>...</td>\n",
       "      <td>...</td>\n",
       "      <td>...</td>\n",
       "      <td>...</td>\n",
       "      <td>...</td>\n",
       "      <td>...</td>\n",
       "      <td>...</td>\n",
       "      <td>...</td>\n",
       "      <td>...</td>\n",
       "      <td>...</td>\n",
       "      <td>...</td>\n",
       "      <td>...</td>\n",
       "      <td>...</td>\n",
       "      <td>...</td>\n",
       "    </tr>\n",
       "    <tr>\n",
       "      <th>51271</th>\n",
       "      <td>CA-2014-ZD21925140-41733</td>\n",
       "      <td>2014-04-04</td>\n",
       "      <td>2014-04-10</td>\n",
       "      <td>Standard Class</td>\n",
       "      <td>ZD-219251402</td>\n",
       "      <td>Zuschuss Donatelli</td>\n",
       "      <td>Consumer</td>\n",
       "      <td>47374.0</td>\n",
       "      <td>Richmond</td>\n",
       "      <td>Indiana</td>\n",
       "      <td>...</td>\n",
       "      <td>FUR-FU-5983</td>\n",
       "      <td>Furniture</td>\n",
       "      <td>Furnishings</td>\n",
       "      <td>Seth Thomas 13 1/2\" Wall Clock</td>\n",
       "      <td>71.120</td>\n",
       "      <td>4</td>\n",
       "      <td>0.0</td>\n",
       "      <td>22.0472</td>\n",
       "      <td>7.30</td>\n",
       "      <td>Medium</td>\n",
       "    </tr>\n",
       "    <tr>\n",
       "      <th>51276</th>\n",
       "      <td>CA-2012-ZD21925140-41147</td>\n",
       "      <td>2012-08-26</td>\n",
       "      <td>2012-08-31</td>\n",
       "      <td>Second Class</td>\n",
       "      <td>ZD-219251404</td>\n",
       "      <td>Zuschuss Donatelli</td>\n",
       "      <td>Consumer</td>\n",
       "      <td>94109.0</td>\n",
       "      <td>San Francisco</td>\n",
       "      <td>California</td>\n",
       "      <td>...</td>\n",
       "      <td>OFF-BI-6395</td>\n",
       "      <td>Office Supplies</td>\n",
       "      <td>Binders</td>\n",
       "      <td>Wilson Jones Hanging View Binder, White, 1\"</td>\n",
       "      <td>22.720</td>\n",
       "      <td>4</td>\n",
       "      <td>0.2</td>\n",
       "      <td>7.3840</td>\n",
       "      <td>3.21</td>\n",
       "      <td>High</td>\n",
       "    </tr>\n",
       "    <tr>\n",
       "      <th>51280</th>\n",
       "      <td>CA-2014-ZD21925140-41829</td>\n",
       "      <td>2014-07-09</td>\n",
       "      <td>2014-07-09</td>\n",
       "      <td>Same Day</td>\n",
       "      <td>ZD-219251408</td>\n",
       "      <td>Zuschuss Donatelli</td>\n",
       "      <td>Consumer</td>\n",
       "      <td>32216.0</td>\n",
       "      <td>Jacksonville</td>\n",
       "      <td>Florida</td>\n",
       "      <td>...</td>\n",
       "      <td>OFF-PA-6474</td>\n",
       "      <td>Office Supplies</td>\n",
       "      <td>Paper</td>\n",
       "      <td>Xerox 1921</td>\n",
       "      <td>15.984</td>\n",
       "      <td>2</td>\n",
       "      <td>0.2</td>\n",
       "      <td>4.9950</td>\n",
       "      <td>2.01</td>\n",
       "      <td>Medium</td>\n",
       "    </tr>\n",
       "    <tr>\n",
       "      <th>51286</th>\n",
       "      <td>US-2014-ZD21925140-41765</td>\n",
       "      <td>2014-05-06</td>\n",
       "      <td>2014-05-10</td>\n",
       "      <td>Standard Class</td>\n",
       "      <td>ZD-219251408</td>\n",
       "      <td>Zuschuss Donatelli</td>\n",
       "      <td>Consumer</td>\n",
       "      <td>37421.0</td>\n",
       "      <td>Chattanooga</td>\n",
       "      <td>Tennessee</td>\n",
       "      <td>...</td>\n",
       "      <td>FUR-FU-4070</td>\n",
       "      <td>Furniture</td>\n",
       "      <td>Furnishings</td>\n",
       "      <td>Eldon Image Series Desk Accessories, Burgundy</td>\n",
       "      <td>16.720</td>\n",
       "      <td>5</td>\n",
       "      <td>0.2</td>\n",
       "      <td>3.3440</td>\n",
       "      <td>1.93</td>\n",
       "      <td>High</td>\n",
       "    </tr>\n",
       "    <tr>\n",
       "      <th>51287</th>\n",
       "      <td>CA-2012-ZD21925140-41147</td>\n",
       "      <td>2012-08-26</td>\n",
       "      <td>2012-08-31</td>\n",
       "      <td>Second Class</td>\n",
       "      <td>ZD-219251404</td>\n",
       "      <td>Zuschuss Donatelli</td>\n",
       "      <td>Consumer</td>\n",
       "      <td>94109.0</td>\n",
       "      <td>San Francisco</td>\n",
       "      <td>California</td>\n",
       "      <td>...</td>\n",
       "      <td>OFF-AR-5321</td>\n",
       "      <td>Office Supplies</td>\n",
       "      <td>Art</td>\n",
       "      <td>Newell 341</td>\n",
       "      <td>8.560</td>\n",
       "      <td>2</td>\n",
       "      <td>0.0</td>\n",
       "      <td>2.4824</td>\n",
       "      <td>1.58</td>\n",
       "      <td>High</td>\n",
       "    </tr>\n",
       "  </tbody>\n",
       "</table>\n",
       "<p>9994 rows × 23 columns</p>\n",
       "</div>"
      ],
      "text/plain": [
       "                       Order ID Order Date  Ship Date       Ship Mode  \\\n",
       "0      CA-2014-AB10015140-41954 2014-11-11 2014-11-13     First Class   \n",
       "8      CA-2014-AB10015140-41954 2014-11-11 2014-11-13     First Class   \n",
       "9      CA-2012-AB10015140-40974 2012-03-06 2012-03-07     First Class   \n",
       "10     CA-2012-AB10015140-40974 2012-03-06 2012-03-07     First Class   \n",
       "16     CA-2012-AB10015140-40958 2012-02-19 2012-02-25  Standard Class   \n",
       "...                         ...        ...        ...             ...   \n",
       "51271  CA-2014-ZD21925140-41733 2014-04-04 2014-04-10  Standard Class   \n",
       "51276  CA-2012-ZD21925140-41147 2012-08-26 2012-08-31    Second Class   \n",
       "51280  CA-2014-ZD21925140-41829 2014-07-09 2014-07-09        Same Day   \n",
       "51286  US-2014-ZD21925140-41765 2014-05-06 2014-05-10  Standard Class   \n",
       "51287  CA-2012-ZD21925140-41147 2012-08-26 2012-08-31    Second Class   \n",
       "\n",
       "        Customer ID       Customer Name   Segment  Postal Code           City  \\\n",
       "0      AB-100151402       Aaron Bergman  Consumer      73120.0  Oklahoma City   \n",
       "8      AB-100151402       Aaron Bergman  Consumer      73120.0  Oklahoma City   \n",
       "9      AB-100151404       Aaron Bergman  Consumer      98103.0        Seattle   \n",
       "10     AB-100151404       Aaron Bergman  Consumer      98103.0        Seattle   \n",
       "16     AB-100151402       Aaron Bergman  Consumer      76017.0      Arlington   \n",
       "...             ...                 ...       ...          ...            ...   \n",
       "51271  ZD-219251402  Zuschuss Donatelli  Consumer      47374.0       Richmond   \n",
       "51276  ZD-219251404  Zuschuss Donatelli  Consumer      94109.0  San Francisco   \n",
       "51280  ZD-219251408  Zuschuss Donatelli  Consumer      32216.0   Jacksonville   \n",
       "51286  ZD-219251408  Zuschuss Donatelli  Consumer      37421.0    Chattanooga   \n",
       "51287  ZD-219251404  Zuschuss Donatelli  Consumer      94109.0  San Francisco   \n",
       "\n",
       "            State  ...   Product ID         Category Sub-Category  \\\n",
       "0        Oklahoma  ...  TEC-PH-5816       Technology       Phones   \n",
       "8        Oklahoma  ...  FUR-BO-5957        Furniture    Bookcases   \n",
       "9      Washington  ...  FUR-CH-4421        Furniture       Chairs   \n",
       "10     Washington  ...  OFF-AR-5309  Office Supplies          Art   \n",
       "16          Texas  ...  OFF-ST-3078  Office Supplies      Storage   \n",
       "...           ...  ...          ...              ...          ...   \n",
       "51271     Indiana  ...  FUR-FU-5983        Furniture  Furnishings   \n",
       "51276  California  ...  OFF-BI-6395  Office Supplies      Binders   \n",
       "51280     Florida  ...  OFF-PA-6474  Office Supplies        Paper   \n",
       "51286   Tennessee  ...  FUR-FU-4070        Furniture  Furnishings   \n",
       "51287  California  ...  OFF-AR-5321  Office Supplies          Art   \n",
       "\n",
       "                                            Product Name    Sales Quantity  \\\n",
       "0                                       Samsung Convoy 3  221.980        2   \n",
       "8      Sauder Facets Collection Library, Sky Alder Fi...  341.960        2   \n",
       "9             Global Push Button Manager's Chair, Indigo   48.712        1   \n",
       "10                                            Newell 330   17.940        3   \n",
       "16                                    Akro Stacking Bins   12.624        2   \n",
       "...                                                  ...      ...      ...   \n",
       "51271                     Seth Thomas 13 1/2\" Wall Clock   71.120        4   \n",
       "51276        Wilson Jones Hanging View Binder, White, 1\"   22.720        4   \n",
       "51280                                         Xerox 1921   15.984        2   \n",
       "51286      Eldon Image Series Desk Accessories, Burgundy   16.720        5   \n",
       "51287                                         Newell 341    8.560        2   \n",
       "\n",
       "      Discount   Profit  Shipping Cost  Order Priority  \n",
       "0          0.0  62.1544          40.77            High  \n",
       "8          0.0  54.7136          25.27            High  \n",
       "9          0.2   5.4801          11.13            High  \n",
       "10         0.0   4.6644           4.29            High  \n",
       "16         0.2  -2.5248           1.97             Low  \n",
       "...        ...      ...            ...             ...  \n",
       "51271      0.0  22.0472           7.30          Medium  \n",
       "51276      0.2   7.3840           3.21            High  \n",
       "51280      0.2   4.9950           2.01          Medium  \n",
       "51286      0.2   3.3440           1.93            High  \n",
       "51287      0.0   2.4824           1.58            High  \n",
       "\n",
       "[9994 rows x 23 columns]"
      ]
     },
     "execution_count": 70,
     "metadata": {},
     "output_type": "execute_result"
    }
   ],
   "source": [
    "df[~df['Postal Code'].isnull()]"
   ]
  },
  {
   "cell_type": "code",
   "execution_count": null,
   "id": "4e41e7a0",
   "metadata": {},
   "outputs": [],
   "source": []
  },
  {
   "cell_type": "code",
   "execution_count": null,
   "id": "2b67b216",
   "metadata": {},
   "outputs": [],
   "source": []
  },
  {
   "cell_type": "code",
   "execution_count": null,
   "id": "3777cdce",
   "metadata": {},
   "outputs": [],
   "source": []
  },
  {
   "cell_type": "markdown",
   "id": "2b4c4876",
   "metadata": {},
   "source": [
    "# Duplicate values"
   ]
  },
  {
   "cell_type": "code",
   "execution_count": 84,
   "id": "2f4c2e64",
   "metadata": {},
   "outputs": [
    {
     "data": {
      "text/plain": [
       "0        False\n",
       "1        False\n",
       "2        False\n",
       "3        False\n",
       "4        False\n",
       "         ...  \n",
       "51285    False\n",
       "51286    False\n",
       "51287    False\n",
       "51288    False\n",
       "51289    False\n",
       "Length: 51290, dtype: bool"
      ]
     },
     "execution_count": 84,
     "metadata": {},
     "output_type": "execute_result"
    }
   ],
   "source": [
    "df.duplicated()"
   ]
  },
  {
   "cell_type": "code",
   "execution_count": 80,
   "id": "a8b8241b",
   "metadata": {},
   "outputs": [
    {
     "data": {
      "text/plain": [
       "0"
      ]
     },
     "execution_count": 80,
     "metadata": {},
     "output_type": "execute_result"
    }
   ],
   "source": [
    "df.duplicated().sum()"
   ]
  },
  {
   "cell_type": "code",
   "execution_count": null,
   "id": "f4409038",
   "metadata": {},
   "outputs": [],
   "source": []
  },
  {
   "cell_type": "markdown",
   "id": "e38d581f",
   "metadata": {},
   "source": [
    "# EDD"
   ]
  },
  {
   "cell_type": "code",
   "execution_count": 108,
   "id": "22cd7953",
   "metadata": {},
   "outputs": [
    {
     "name": "stdout",
     "output_type": "stream",
     "text": [
      "Order ID \n",
      " CA-2015-SV20365140-42268    14\n",
      "TO-2015-AB600131-42299      13\n",
      "IN-2013-TB21055113-41562    13\n",
      "IN-2014-MH1778527-41697     13\n",
      "NI-2015-TC1098095-42033     13\n",
      "                            ..\n",
      "CA-2013-RW19540140-41307     1\n",
      "CG-2014-KH636033-41867       1\n",
      "AG-2012-AC4203-40915         1\n",
      "UP-2013-LW6825137-41586      1\n",
      "IZ-2014-AR54061-41733        1\n",
      "Name: Order ID, Length: 25728, dtype: int64 \n",
      "\n",
      "Order Date \n",
      " 2015-06-18    135\n",
      "2015-11-18    127\n",
      "2015-09-03    126\n",
      "2015-11-20    118\n",
      "2015-12-29    116\n",
      "             ... \n",
      "2013-02-18      1\n",
      "2012-04-23      1\n",
      "2013-10-07      1\n",
      "2013-05-27      1\n",
      "2013-09-23      1\n",
      "Name: Order Date, Length: 1430, dtype: int64 \n",
      "\n",
      "Ship Date \n",
      " 2015-11-22    130\n",
      "2015-09-07    115\n",
      "2015-11-17    101\n",
      "2015-12-07    101\n",
      "2015-11-29    100\n",
      "             ... \n",
      "2012-04-13      3\n",
      "2012-01-25      3\n",
      "2012-01-05      2\n",
      "2012-01-03      2\n",
      "2012-01-06      2\n",
      "Name: Ship Date, Length: 1464, dtype: int64 \n",
      "\n",
      "Ship Mode \n",
      " Standard Class    30775\n",
      "Second Class      10309\n",
      "First Class        7505\n",
      "Same Day           2701\n",
      "Name: Ship Mode, dtype: int64 \n",
      "\n",
      "Customer ID \n",
      " SV-203651406    26\n",
      "WB-218501404    24\n",
      "AP-109151404    23\n",
      "EM-1396082      21\n",
      "CS-121757       20\n",
      "                ..\n",
      "MG-1814558       1\n",
      "PJ-1883548       1\n",
      "RM-1975018       1\n",
      "AH-105851402     1\n",
      "AW-93095         1\n",
      "Name: Customer ID, Length: 17415, dtype: int64 \n",
      "\n",
      "Customer Name \n",
      " Muhammed Yedwab    108\n",
      "Steven Ward        106\n",
      "Bill Eplett        102\n",
      "Patrick O'Brill    102\n",
      "Gary Hwang         102\n",
      "                  ... \n",
      "David Bremer        34\n",
      "Darren Budd         31\n",
      "Nicole Brennan      31\n",
      "Michael Oakman      29\n",
      "Kai Rey              7\n",
      "Name: Customer Name, Length: 796, dtype: int64 \n",
      "\n",
      "Segment \n",
      " Consumer       26518\n",
      "Corporate      15429\n",
      "Home Office     9343\n",
      "Name: Segment, dtype: int64 \n",
      "\n",
      "Postal Code \n",
      " <bound method NDFrame._add_numeric_operations.<locals>.median of 0        73120.0\\n1            NaN\\n2            NaN\\n3            NaN\\n4            NaN\\n          ...   \\n51285        NaN\\n51286    37421.0\\n51287    94109.0\\n51288        NaN\\n51289        NaN\\nName: Postal Code, Length: 51290, dtype: float64>    41296\n",
      "10035.0                                                                                                                                                                                                                                                                                                                       263\n",
      "10024.0                                                                                                                                                                                                                                                                                                                       230\n",
      "10009.0                                                                                                                                                                                                                                                                                                                       229\n",
      "94122.0                                                                                                                                                                                                                                                                                                                       203\n",
      "                                                                                                                                                                                                                                                                                                                            ...  \n",
      "11757.0                                                                                                                                                                                                                                                                                                                         1\n",
      "77301.0                                                                                                                                                                                                                                                                                                                         1\n",
      "34741.0                                                                                                                                                                                                                                                                                                                         1\n",
      "68701.0                                                                                                                                                                                                                                                                                                                         1\n",
      "72762.0                                                                                                                                                                                                                                                                                                                         1\n",
      "Name: Postal Code, Length: 632, dtype: int64 \n",
      "\n",
      "City \n",
      " New York City          915\n",
      "Los Angeles            747\n",
      "Philadelphia           537\n",
      "San Francisco          510\n",
      "Santo Domingo          443\n",
      "                      ... \n",
      "Voiron                   1\n",
      "Isparta                  1\n",
      "Chuncheon                1\n",
      "Varese                   1\n",
      "Les Pennes-Mirabeau      1\n",
      "Name: City, Length: 3650, dtype: int64 \n",
      "\n",
      "State \n",
      " California       2001\n",
      "England          1499\n",
      "New York         1128\n",
      "Texas             985\n",
      "Ile-de-France     981\n",
      "                 ... \n",
      "Tanga               1\n",
      "Paysandú            1\n",
      "Novosibirsk         1\n",
      "Shumen              1\n",
      "Aveiro              1\n",
      "Name: State, Length: 1102, dtype: int64 \n",
      "\n",
      "Country \n",
      " United States    9994\n",
      "Australia        2837\n",
      "France           2827\n",
      "Mexico           2635\n",
      "Germany          2063\n",
      "                 ... \n",
      "The Gambia          1\n",
      "Suriname            1\n",
      "Kuwait              1\n",
      "Bhutan              1\n",
      "Malawi              1\n",
      "Name: Country, Length: 165, dtype: int64 \n",
      "\n",
      "Region \n",
      " Western Europe       5883\n",
      "Central America      5616\n",
      "Oceania              3487\n",
      "Western US           3203\n",
      "Southeastern Asia    3129\n",
      "South America        2988\n",
      "Eastern US           2848\n",
      "Southern Asia        2655\n",
      "Western Asia         2440\n",
      "Eastern Asia         2374\n",
      "Central US           2323\n",
      "Northern Europe      2204\n",
      "Southern Europe      2113\n",
      "Caribbean            1690\n",
      "Southern US          1620\n",
      "Eastern Europe       1529\n",
      "Western Africa       1460\n",
      "North Africa         1278\n",
      "Eastern Africa        728\n",
      "Central Africa        643\n",
      "Southern Africa       478\n",
      "Canada                384\n",
      "Central Asia          217\n",
      "Name: Region, dtype: int64 \n",
      "\n",
      "Market \n",
      " Asia Pacific    14302\n",
      "Europe          11729\n",
      "USCA            10378\n",
      "LATAM           10294\n",
      "Africa           4587\n",
      "Name: Market, dtype: int64 \n",
      "\n",
      "Product ID \n",
      " OFF-FA-6129    227\n",
      "OFF-BI-3737     92\n",
      "OFF-ST-4057     90\n",
      "OFF-ST-5693     84\n",
      "OFF-BI-4828     83\n",
      "              ... \n",
      "TEC-PH-3183      1\n",
      "FUR-TA-3339      1\n",
      "OFF-PA-6599      1\n",
      "OFF-EN-5579      1\n",
      "OFF-AP-5935      1\n",
      "Name: Product ID, Length: 3788, dtype: int64 \n",
      "\n",
      "Category \n",
      " Office Supplies    31289\n",
      "Technology         10141\n",
      "Furniture           9860\n",
      "Name: Category, dtype: int64 \n",
      "\n",
      "Sub-Category \n",
      " Binders        6146\n",
      "Storage        5049\n",
      "Art            4864\n",
      "Paper          3492\n",
      "Chairs         3434\n",
      "Phones         3357\n",
      "Furnishings    3154\n",
      "Accessories    3075\n",
      "Labels         2601\n",
      "Fasteners      2601\n",
      "Bookcases      2411\n",
      "Supplies       2407\n",
      "Envelopes      2387\n",
      "Copiers        2223\n",
      "Appliances     1742\n",
      "Machines       1486\n",
      "Tables          861\n",
      "Name: Sub-Category, dtype: int64 \n",
      "\n",
      "Product Name \n",
      " Staples                                                                      227\n",
      "Cardinal Index Tab, Clear                                                     92\n",
      "Eldon File Cart, Single Width                                                 90\n",
      "Rogers File Cart, Single Width                                                84\n",
      "Ibico Index Tab, Clear                                                        83\n",
      "                                                                            ... \n",
      "Hewlett-Packard Deskjet 5550 Printer                                           1\n",
      "Konica Minolta magicolor 1690MF Multifunction Printer                          1\n",
      "Xerox 1918                                                                     1\n",
      "Snap-A-Way Black Print Carbonless Speed Message, No Reply Area, Duplicate      1\n",
      "Xerox 1922                                                                     1\n",
      "Name: Product Name, Length: 3788, dtype: int64 \n",
      "\n",
      "Sales \n",
      " 12.9600     61\n",
      "15.5520     41\n",
      "19.4400     41\n",
      "10.3680     37\n",
      "25.9200     36\n",
      "            ..\n",
      "75.1950      1\n",
      "954.7200     1\n",
      "313.7265     1\n",
      "37.8240      1\n",
      "170.4600     1\n",
      "Name: Sales, Length: 27200, dtype: int64 \n",
      "\n",
      "Quantity \n",
      " 2     12748\n",
      "3      9682\n",
      "1      8963\n",
      "4      6385\n",
      "5      4882\n",
      "6      3020\n",
      "7      2385\n",
      "8      1361\n",
      "9       987\n",
      "10      276\n",
      "14      186\n",
      "12      176\n",
      "11      156\n",
      "13       83\n",
      "Name: Quantity, dtype: int64 \n",
      "\n",
      "Discount \n",
      " 0.000    29009\n",
      "0.200     4998\n",
      "0.100     4068\n",
      "0.400     3177\n",
      "0.600     2006\n",
      "0.700     1786\n",
      "0.500     1633\n",
      "0.170      735\n",
      "0.470      725\n",
      "0.002      461\n",
      "0.150      459\n",
      "0.270      388\n",
      "0.300      340\n",
      "0.450      325\n",
      "0.800      316\n",
      "0.250      198\n",
      "0.070      150\n",
      "0.350      122\n",
      "0.402      104\n",
      "0.150       82\n",
      "0.370       74\n",
      "0.202       41\n",
      "0.320       27\n",
      "0.602       23\n",
      "0.650       17\n",
      "0.570       12\n",
      "0.550       10\n",
      "0.850        2\n",
      "0.450        2\n",
      "Name: Discount, dtype: int64 \n",
      "\n",
      "Profit \n",
      "  0.0000     668\n",
      " 7.9200      64\n",
      " 3.9600      62\n",
      " 4.3200      60\n",
      " 9.0000      56\n",
      "           ... \n",
      " 6.1992       1\n",
      "-11.4060      1\n",
      " 80.8800      1\n",
      " 26.8400      1\n",
      "-82.6080      1\n",
      "Name: Profit, Length: 28234, dtype: int64 \n",
      "\n",
      "Shipping Cost \n",
      " 1.350     113\n",
      "1.970     108\n",
      "1.790     106\n",
      "1.800     106\n",
      "1.620     105\n",
      "         ... \n",
      "2.569       1\n",
      "36.180      1\n",
      "81.960      1\n",
      "36.610      1\n",
      "21.498      1\n",
      "Name: Shipping Cost, Length: 16753, dtype: int64 \n",
      "\n",
      "Order Priority \n",
      " Medium      29433\n",
      "High        15501\n",
      "Critical     3932\n",
      "Low          2424\n",
      "Name: Order Priority, dtype: int64 \n",
      "\n",
      "new \n",
      " <bound method NDFrame._add_numeric_operations.<locals>.median of 0        73120.0\\n1            NaN\\n2            NaN\\n3            NaN\\n4            NaN\\n          ...   \\n51285        NaN\\n51286    37421.0\\n51287    94109.0\\n51288        NaN\\n51289        NaN\\nName: Postal Code, Length: 51290, dtype: float64>    41296\n",
      "10035.0                                                                                                                                                                                                                                                                                                                       263\n",
      "10024.0                                                                                                                                                                                                                                                                                                                       230\n",
      "10009.0                                                                                                                                                                                                                                                                                                                       229\n",
      "94122.0                                                                                                                                                                                                                                                                                                                       203\n",
      "                                                                                                                                                                                                                                                                                                                            ...  \n",
      "11757.0                                                                                                                                                                                                                                                                                                                         1\n",
      "77301.0                                                                                                                                                                                                                                                                                                                         1\n",
      "34741.0                                                                                                                                                                                                                                                                                                                         1\n",
      "68701.0                                                                                                                                                                                                                                                                                                                         1\n",
      "72762.0                                                                                                                                                                                                                                                                                                                         1\n",
      "Name: new, Length: 632, dtype: int64 \n",
      "\n"
     ]
    }
   ],
   "source": [
    "#frequency distribution\n",
    "for i in df.columns:\n",
    "    print(i,'\\n',df[i].value_counts(),'\\n')"
   ]
  },
  {
   "cell_type": "code",
   "execution_count": null,
   "id": "211b0c9c",
   "metadata": {},
   "outputs": [],
   "source": []
  },
  {
   "cell_type": "code",
   "execution_count": 91,
   "id": "b7480634",
   "metadata": {},
   "outputs": [
    {
     "data": {
      "text/plain": [
       "25728"
      ]
     },
     "execution_count": 91,
     "metadata": {},
     "output_type": "execute_result"
    }
   ],
   "source": [
    "df['Order ID'].nunique()"
   ]
  },
  {
   "cell_type": "code",
   "execution_count": 103,
   "id": "63804f89",
   "metadata": {},
   "outputs": [
    {
     "data": {
      "text/plain": [
       "0.5016182491713784"
      ]
     },
     "execution_count": 103,
     "metadata": {},
     "output_type": "execute_result"
    }
   ],
   "source": [
    "df['Order ID'].nunique()/df.shape[0]\n"
   ]
  },
  {
   "cell_type": "code",
   "execution_count": null,
   "id": "9c7599a6",
   "metadata": {},
   "outputs": [],
   "source": []
  },
  {
   "cell_type": "code",
   "execution_count": 105,
   "id": "32d69bfa",
   "metadata": {},
   "outputs": [
    {
     "data": {
      "text/plain": [
       "1430"
      ]
     },
     "execution_count": 105,
     "metadata": {},
     "output_type": "execute_result"
    }
   ],
   "source": [
    "df['Order Date'].nunique()"
   ]
  },
  {
   "cell_type": "code",
   "execution_count": 107,
   "id": "bff56dac",
   "metadata": {},
   "outputs": [
    {
     "data": {
      "text/plain": [
       "0.027880678494833302"
      ]
     },
     "execution_count": 107,
     "metadata": {},
     "output_type": "execute_result"
    }
   ],
   "source": [
    "df['Order Date'].nunique()/df.shape[0]"
   ]
  },
  {
   "cell_type": "code",
   "execution_count": null,
   "id": "d4ccc311",
   "metadata": {},
   "outputs": [],
   "source": []
  },
  {
   "cell_type": "code",
   "execution_count": 110,
   "id": "11dfb5fa",
   "metadata": {},
   "outputs": [
    {
     "data": {
      "text/plain": [
       "1464"
      ]
     },
     "execution_count": 110,
     "metadata": {},
     "output_type": "execute_result"
    }
   ],
   "source": [
    "df['Ship Date'].nunique()"
   ]
  },
  {
   "cell_type": "code",
   "execution_count": 115,
   "id": "ebabbaff",
   "metadata": {},
   "outputs": [
    {
     "data": {
      "text/plain": [
       "0.028543575745759407"
      ]
     },
     "execution_count": 115,
     "metadata": {},
     "output_type": "execute_result"
    }
   ],
   "source": [
    "df['Ship Date'].nunique()/df.shape[0]"
   ]
  },
  {
   "cell_type": "code",
   "execution_count": null,
   "id": "8bd0be60",
   "metadata": {},
   "outputs": [],
   "source": []
  },
  {
   "cell_type": "code",
   "execution_count": 6,
   "id": "33b08169",
   "metadata": {},
   "outputs": [
    {
     "data": {
      "text/plain": [
       "4"
      ]
     },
     "execution_count": 6,
     "metadata": {},
     "output_type": "execute_result"
    }
   ],
   "source": [
    "df['Ship Mode'].nunique()"
   ]
  },
  {
   "cell_type": "code",
   "execution_count": 121,
   "id": "d707bec4",
   "metadata": {},
   "outputs": [
    {
     "data": {
      "text/plain": [
       "7.798791187365959e-05"
      ]
     },
     "execution_count": 121,
     "metadata": {},
     "output_type": "execute_result"
    }
   ],
   "source": [
    "df['Ship Mode'].nunique()/df.shape[0]"
   ]
  },
  {
   "cell_type": "code",
   "execution_count": null,
   "id": "be75ddd8",
   "metadata": {},
   "outputs": [],
   "source": []
  },
  {
   "cell_type": "code",
   "execution_count": 123,
   "id": "7c89277f",
   "metadata": {},
   "outputs": [
    {
     "data": {
      "text/plain": [
       "17415"
      ]
     },
     "execution_count": 123,
     "metadata": {},
     "output_type": "execute_result"
    }
   ],
   "source": [
    "df['Customer ID'].nunique()"
   ]
  },
  {
   "cell_type": "code",
   "execution_count": 125,
   "id": "0d735f76",
   "metadata": {},
   "outputs": [
    {
     "data": {
      "text/plain": [
       "0.3395398713199454"
      ]
     },
     "execution_count": 125,
     "metadata": {},
     "output_type": "execute_result"
    }
   ],
   "source": [
    "df['Customer ID'].nunique()/df.shape[0]"
   ]
  },
  {
   "cell_type": "code",
   "execution_count": null,
   "id": "760fd770",
   "metadata": {},
   "outputs": [],
   "source": []
  },
  {
   "cell_type": "code",
   "execution_count": 127,
   "id": "1591380c",
   "metadata": {},
   "outputs": [
    {
     "data": {
      "text/plain": [
       "796"
      ]
     },
     "execution_count": 127,
     "metadata": {},
     "output_type": "execute_result"
    }
   ],
   "source": [
    "df['Customer Name'].nunique()"
   ]
  },
  {
   "cell_type": "code",
   "execution_count": 129,
   "id": "742f69dd",
   "metadata": {},
   "outputs": [
    {
     "data": {
      "text/plain": [
       "0.015519594462858256"
      ]
     },
     "execution_count": 129,
     "metadata": {},
     "output_type": "execute_result"
    }
   ],
   "source": [
    "df['Customer Name'].nunique()/df.shape[0]"
   ]
  },
  {
   "cell_type": "code",
   "execution_count": null,
   "id": "15f9283b",
   "metadata": {},
   "outputs": [],
   "source": []
  },
  {
   "cell_type": "code",
   "execution_count": 131,
   "id": "2fbec55e",
   "metadata": {},
   "outputs": [
    {
     "data": {
      "text/plain": [
       "3"
      ]
     },
     "execution_count": 131,
     "metadata": {},
     "output_type": "execute_result"
    }
   ],
   "source": [
    "df['Segment'].nunique()"
   ]
  },
  {
   "cell_type": "code",
   "execution_count": 133,
   "id": "03194616",
   "metadata": {},
   "outputs": [
    {
     "data": {
      "text/plain": [
       "5.8490933905244686e-05"
      ]
     },
     "execution_count": 133,
     "metadata": {},
     "output_type": "execute_result"
    }
   ],
   "source": [
    "df['Segment'].nunique()/df.shape[0]"
   ]
  },
  {
   "cell_type": "code",
   "execution_count": null,
   "id": "9a080207",
   "metadata": {},
   "outputs": [],
   "source": []
  },
  {
   "cell_type": "code",
   "execution_count": 135,
   "id": "95482ff7",
   "metadata": {},
   "outputs": [
    {
     "data": {
      "text/plain": [
       "632"
      ]
     },
     "execution_count": 135,
     "metadata": {},
     "output_type": "execute_result"
    }
   ],
   "source": [
    "df['Postal Code'].nunique()"
   ]
  },
  {
   "cell_type": "code",
   "execution_count": 141,
   "id": "a5a9767d",
   "metadata": {},
   "outputs": [
    {
     "data": {
      "text/plain": [
       "0.0123025930980698"
      ]
     },
     "execution_count": 141,
     "metadata": {},
     "output_type": "execute_result"
    }
   ],
   "source": [
    "df['Postal Code'].nunique()/df.shape[0]"
   ]
  },
  {
   "cell_type": "code",
   "execution_count": null,
   "id": "abcce0d4",
   "metadata": {},
   "outputs": [],
   "source": []
  },
  {
   "cell_type": "code",
   "execution_count": 143,
   "id": "f9a186b1",
   "metadata": {},
   "outputs": [
    {
     "data": {
      "text/plain": [
       "3650"
      ]
     },
     "execution_count": 143,
     "metadata": {},
     "output_type": "execute_result"
    }
   ],
   "source": [
    "df['City'].nunique()"
   ]
  },
  {
   "cell_type": "code",
   "execution_count": 145,
   "id": "aebe5fd9",
   "metadata": {},
   "outputs": [
    {
     "data": {
      "text/plain": [
       "0.07116396958471437"
      ]
     },
     "execution_count": 145,
     "metadata": {},
     "output_type": "execute_result"
    }
   ],
   "source": [
    "df['City'].nunique()/df.shape[0]"
   ]
  },
  {
   "cell_type": "code",
   "execution_count": null,
   "id": "c3747753",
   "metadata": {},
   "outputs": [],
   "source": []
  },
  {
   "cell_type": "code",
   "execution_count": 148,
   "id": "ce4d4314",
   "metadata": {},
   "outputs": [
    {
     "data": {
      "text/plain": [
       "1102"
      ]
     },
     "execution_count": 148,
     "metadata": {},
     "output_type": "execute_result"
    }
   ],
   "source": [
    "df['State'].nunique()"
   ]
  },
  {
   "cell_type": "code",
   "execution_count": 150,
   "id": "a46cfd00",
   "metadata": {},
   "outputs": [
    {
     "data": {
      "text/plain": [
       "0.021485669721193215"
      ]
     },
     "execution_count": 150,
     "metadata": {},
     "output_type": "execute_result"
    }
   ],
   "source": [
    "df['State'].nunique()/df.shape[0]"
   ]
  },
  {
   "cell_type": "code",
   "execution_count": null,
   "id": "b6289bb5",
   "metadata": {},
   "outputs": [],
   "source": []
  },
  {
   "cell_type": "code",
   "execution_count": 152,
   "id": "622073cd",
   "metadata": {},
   "outputs": [
    {
     "data": {
      "text/plain": [
       "165"
      ]
     },
     "execution_count": 152,
     "metadata": {},
     "output_type": "execute_result"
    }
   ],
   "source": [
    "df['Country'].nunique()"
   ]
  },
  {
   "cell_type": "code",
   "execution_count": 154,
   "id": "581025c6",
   "metadata": {},
   "outputs": [
    {
     "data": {
      "text/plain": [
       "0.003217001364788458"
      ]
     },
     "execution_count": 154,
     "metadata": {},
     "output_type": "execute_result"
    }
   ],
   "source": [
    "df['Country'].nunique()/df.shape[0]"
   ]
  },
  {
   "cell_type": "code",
   "execution_count": null,
   "id": "44ad348a",
   "metadata": {},
   "outputs": [],
   "source": []
  },
  {
   "cell_type": "code",
   "execution_count": 156,
   "id": "94ec7250",
   "metadata": {},
   "outputs": [
    {
     "data": {
      "text/plain": [
       "23"
      ]
     },
     "execution_count": 156,
     "metadata": {},
     "output_type": "execute_result"
    }
   ],
   "source": [
    "df['Region'].nunique()"
   ]
  },
  {
   "cell_type": "code",
   "execution_count": 158,
   "id": "30ac0a16",
   "metadata": {},
   "outputs": [
    {
     "data": {
      "text/plain": [
       "0.0004484304932735426"
      ]
     },
     "execution_count": 158,
     "metadata": {},
     "output_type": "execute_result"
    }
   ],
   "source": [
    "df['Region'].nunique()/df.shape[0]"
   ]
  },
  {
   "cell_type": "code",
   "execution_count": null,
   "id": "8b41ca47",
   "metadata": {},
   "outputs": [],
   "source": []
  },
  {
   "cell_type": "code",
   "execution_count": 160,
   "id": "70d4a007",
   "metadata": {},
   "outputs": [
    {
     "data": {
      "text/plain": [
       "5"
      ]
     },
     "execution_count": 160,
     "metadata": {},
     "output_type": "execute_result"
    }
   ],
   "source": [
    "df['Market'].nunique()"
   ]
  },
  {
   "cell_type": "code",
   "execution_count": 162,
   "id": "3969e979",
   "metadata": {},
   "outputs": [
    {
     "data": {
      "text/plain": [
       "9.748488984207447e-05"
      ]
     },
     "execution_count": 162,
     "metadata": {},
     "output_type": "execute_result"
    }
   ],
   "source": [
    "df['Market'].nunique()/df.shape[0]"
   ]
  },
  {
   "cell_type": "code",
   "execution_count": null,
   "id": "1ec077dd",
   "metadata": {},
   "outputs": [],
   "source": []
  },
  {
   "cell_type": "code",
   "execution_count": 164,
   "id": "87224355",
   "metadata": {},
   "outputs": [
    {
     "data": {
      "text/plain": [
       "3788"
      ]
     },
     "execution_count": 164,
     "metadata": {},
     "output_type": "execute_result"
    }
   ],
   "source": [
    "df['Product ID'].nunique()"
   ]
  },
  {
   "cell_type": "code",
   "execution_count": 166,
   "id": "07ae6f28",
   "metadata": {},
   "outputs": [
    {
     "data": {
      "text/plain": [
       "0.07385455254435562"
      ]
     },
     "execution_count": 166,
     "metadata": {},
     "output_type": "execute_result"
    }
   ],
   "source": [
    "df['Product ID'].nunique()/df.shape[0]"
   ]
  },
  {
   "cell_type": "code",
   "execution_count": null,
   "id": "7676c986",
   "metadata": {},
   "outputs": [],
   "source": []
  },
  {
   "cell_type": "code",
   "execution_count": 168,
   "id": "c9a0e38a",
   "metadata": {},
   "outputs": [
    {
     "data": {
      "text/plain": [
       "3"
      ]
     },
     "execution_count": 168,
     "metadata": {},
     "output_type": "execute_result"
    }
   ],
   "source": [
    "df['Category'].nunique()"
   ]
  },
  {
   "cell_type": "code",
   "execution_count": 170,
   "id": "a0cb4b81",
   "metadata": {},
   "outputs": [
    {
     "data": {
      "text/plain": [
       "5.8490933905244686e-05"
      ]
     },
     "execution_count": 170,
     "metadata": {},
     "output_type": "execute_result"
    }
   ],
   "source": [
    "df['Category'].nunique()/df.shape[0]"
   ]
  },
  {
   "cell_type": "code",
   "execution_count": null,
   "id": "bb5673fd",
   "metadata": {},
   "outputs": [],
   "source": []
  },
  {
   "cell_type": "code",
   "execution_count": 172,
   "id": "3750163d",
   "metadata": {},
   "outputs": [
    {
     "data": {
      "text/plain": [
       "17"
      ]
     },
     "execution_count": 172,
     "metadata": {},
     "output_type": "execute_result"
    }
   ],
   "source": [
    "df['Sub-Category'].nunique()"
   ]
  },
  {
   "cell_type": "code",
   "execution_count": 174,
   "id": "debc6914",
   "metadata": {},
   "outputs": [
    {
     "data": {
      "text/plain": [
       "0.00033144862546305323"
      ]
     },
     "execution_count": 174,
     "metadata": {},
     "output_type": "execute_result"
    }
   ],
   "source": [
    "df['Sub-Category'].nunique()/df.shape[0]"
   ]
  },
  {
   "cell_type": "code",
   "execution_count": null,
   "id": "d1be3643",
   "metadata": {},
   "outputs": [],
   "source": []
  },
  {
   "cell_type": "code",
   "execution_count": 176,
   "id": "a50672e2",
   "metadata": {},
   "outputs": [
    {
     "data": {
      "text/plain": [
       "3788"
      ]
     },
     "execution_count": 176,
     "metadata": {},
     "output_type": "execute_result"
    }
   ],
   "source": [
    "df['Product Name'].nunique()"
   ]
  },
  {
   "cell_type": "code",
   "execution_count": 178,
   "id": "4be9eaf7",
   "metadata": {},
   "outputs": [
    {
     "data": {
      "text/plain": [
       "0.07385455254435562"
      ]
     },
     "execution_count": 178,
     "metadata": {},
     "output_type": "execute_result"
    }
   ],
   "source": [
    "df['Product Name'].nunique()/df.shape[0]"
   ]
  },
  {
   "cell_type": "code",
   "execution_count": null,
   "id": "ae6d28da",
   "metadata": {},
   "outputs": [],
   "source": []
  },
  {
   "cell_type": "code",
   "execution_count": 181,
   "id": "6c687a15",
   "metadata": {},
   "outputs": [
    {
     "data": {
      "text/plain": [
       "27200"
      ]
     },
     "execution_count": 181,
     "metadata": {},
     "output_type": "execute_result"
    }
   ],
   "source": [
    "df['Sales'].nunique()"
   ]
  },
  {
   "cell_type": "code",
   "execution_count": 183,
   "id": "38f5cd8f",
   "metadata": {},
   "outputs": [
    {
     "data": {
      "text/plain": [
       "0.5303178007408852"
      ]
     },
     "execution_count": 183,
     "metadata": {},
     "output_type": "execute_result"
    }
   ],
   "source": [
    "df['Sales'].nunique()/df.shape[0]"
   ]
  },
  {
   "cell_type": "code",
   "execution_count": null,
   "id": "adfb70a7",
   "metadata": {},
   "outputs": [],
   "source": []
  },
  {
   "cell_type": "code",
   "execution_count": 186,
   "id": "23e98125",
   "metadata": {},
   "outputs": [
    {
     "data": {
      "text/plain": [
       "27200"
      ]
     },
     "execution_count": 186,
     "metadata": {},
     "output_type": "execute_result"
    }
   ],
   "source": [
    "df['Quantity'].nunique()"
   ]
  },
  {
   "cell_type": "code",
   "execution_count": 190,
   "id": "ff1e9609",
   "metadata": {},
   "outputs": [
    {
     "data": {
      "text/plain": [
       "0.0002729576915578085"
      ]
     },
     "execution_count": 190,
     "metadata": {},
     "output_type": "execute_result"
    }
   ],
   "source": [
    "df['Quantity'].nunique()/df.shape[0]"
   ]
  },
  {
   "cell_type": "code",
   "execution_count": null,
   "id": "4cb414b5",
   "metadata": {},
   "outputs": [],
   "source": []
  },
  {
   "cell_type": "code",
   "execution_count": 7,
   "id": "6484b475",
   "metadata": {},
   "outputs": [
    {
     "data": {
      "text/plain": [
       "29"
      ]
     },
     "execution_count": 7,
     "metadata": {},
     "output_type": "execute_result"
    }
   ],
   "source": [
    "df['Discount'].nunique()"
   ]
  },
  {
   "cell_type": "code",
   "execution_count": 11,
   "id": "a6211a59",
   "metadata": {},
   "outputs": [
    {
     "data": {
      "text/plain": [
       "0.000565412361084032"
      ]
     },
     "execution_count": 11,
     "metadata": {},
     "output_type": "execute_result"
    }
   ],
   "source": [
    "df['Discount'].nunique()/df.shape[0]"
   ]
  },
  {
   "cell_type": "code",
   "execution_count": null,
   "id": "5c016c05",
   "metadata": {},
   "outputs": [],
   "source": []
  },
  {
   "cell_type": "code",
   "execution_count": 13,
   "id": "fd39518e",
   "metadata": {},
   "outputs": [
    {
     "data": {
      "text/plain": [
       "28234"
      ]
     },
     "execution_count": 13,
     "metadata": {},
     "output_type": "execute_result"
    }
   ],
   "source": [
    "df['Profit'].nunique()"
   ]
  },
  {
   "cell_type": "code",
   "execution_count": 15,
   "id": "f9a52990",
   "metadata": {},
   "outputs": [
    {
     "data": {
      "text/plain": [
       "0.5504776759602261"
      ]
     },
     "execution_count": 15,
     "metadata": {},
     "output_type": "execute_result"
    }
   ],
   "source": [
    "df['Profit'].nunique()/df.shape[0]"
   ]
  },
  {
   "cell_type": "code",
   "execution_count": null,
   "id": "0eb89829",
   "metadata": {},
   "outputs": [],
   "source": []
  },
  {
   "cell_type": "code",
   "execution_count": 17,
   "id": "b42b7bec",
   "metadata": {},
   "outputs": [
    {
     "data": {
      "text/plain": [
       "16753"
      ]
     },
     "execution_count": 17,
     "metadata": {},
     "output_type": "execute_result"
    }
   ],
   "source": [
    "df['Shipping Cost'].nunique()"
   ]
  },
  {
   "cell_type": "code",
   "execution_count": 28,
   "id": "c56e06af",
   "metadata": {},
   "outputs": [
    {
     "data": {
      "text/plain": [
       "0.32663287190485474"
      ]
     },
     "execution_count": 28,
     "metadata": {},
     "output_type": "execute_result"
    }
   ],
   "source": [
    "df['Shipping Cost'].nunique()/df.shape[0]"
   ]
  },
  {
   "cell_type": "code",
   "execution_count": null,
   "id": "9af8aa28",
   "metadata": {},
   "outputs": [],
   "source": []
  },
  {
   "cell_type": "code",
   "execution_count": 21,
   "id": "69622cbe",
   "metadata": {},
   "outputs": [
    {
     "data": {
      "text/plain": [
       "4"
      ]
     },
     "execution_count": 21,
     "metadata": {},
     "output_type": "execute_result"
    }
   ],
   "source": [
    "df['Order Priority'].nunique()"
   ]
  },
  {
   "cell_type": "code",
   "execution_count": 23,
   "id": "144679be",
   "metadata": {},
   "outputs": [
    {
     "data": {
      "text/plain": [
       "7.798791187365959e-05"
      ]
     },
     "execution_count": 23,
     "metadata": {},
     "output_type": "execute_result"
    }
   ],
   "source": [
    "df['Order Priority'].nunique()/df.shape[0]"
   ]
  },
  {
   "cell_type": "code",
   "execution_count": null,
   "id": "4e37aef8",
   "metadata": {},
   "outputs": [],
   "source": []
  },
  {
   "cell_type": "code",
   "execution_count": 25,
   "id": "f809d397",
   "metadata": {},
   "outputs": [
    {
     "data": {
      "text/html": [
       "<div>\n",
       "<style scoped>\n",
       "    .dataframe tbody tr th:only-of-type {\n",
       "        vertical-align: middle;\n",
       "    }\n",
       "\n",
       "    .dataframe tbody tr th {\n",
       "        vertical-align: top;\n",
       "    }\n",
       "\n",
       "    .dataframe thead th {\n",
       "        text-align: right;\n",
       "    }\n",
       "</style>\n",
       "<table border=\"1\" class=\"dataframe\">\n",
       "  <thead>\n",
       "    <tr style=\"text-align: right;\">\n",
       "      <th></th>\n",
       "      <th>count</th>\n",
       "      <th>unique</th>\n",
       "      <th>top</th>\n",
       "      <th>freq</th>\n",
       "    </tr>\n",
       "  </thead>\n",
       "  <tbody>\n",
       "    <tr>\n",
       "      <th>Order ID</th>\n",
       "      <td>51290</td>\n",
       "      <td>25728</td>\n",
       "      <td>CA-2015-SV20365140-42268</td>\n",
       "      <td>14</td>\n",
       "    </tr>\n",
       "    <tr>\n",
       "      <th>Ship Mode</th>\n",
       "      <td>51290</td>\n",
       "      <td>4</td>\n",
       "      <td>Standard Class</td>\n",
       "      <td>30775</td>\n",
       "    </tr>\n",
       "    <tr>\n",
       "      <th>Customer ID</th>\n",
       "      <td>51290</td>\n",
       "      <td>17415</td>\n",
       "      <td>SV-203651406</td>\n",
       "      <td>26</td>\n",
       "    </tr>\n",
       "    <tr>\n",
       "      <th>Customer Name</th>\n",
       "      <td>51290</td>\n",
       "      <td>796</td>\n",
       "      <td>Muhammed Yedwab</td>\n",
       "      <td>108</td>\n",
       "    </tr>\n",
       "    <tr>\n",
       "      <th>Segment</th>\n",
       "      <td>51290</td>\n",
       "      <td>3</td>\n",
       "      <td>Consumer</td>\n",
       "      <td>26518</td>\n",
       "    </tr>\n",
       "    <tr>\n",
       "      <th>City</th>\n",
       "      <td>51290</td>\n",
       "      <td>3650</td>\n",
       "      <td>New York City</td>\n",
       "      <td>915</td>\n",
       "    </tr>\n",
       "    <tr>\n",
       "      <th>State</th>\n",
       "      <td>51290</td>\n",
       "      <td>1102</td>\n",
       "      <td>California</td>\n",
       "      <td>2001</td>\n",
       "    </tr>\n",
       "    <tr>\n",
       "      <th>Country</th>\n",
       "      <td>51290</td>\n",
       "      <td>165</td>\n",
       "      <td>United States</td>\n",
       "      <td>9994</td>\n",
       "    </tr>\n",
       "    <tr>\n",
       "      <th>Region</th>\n",
       "      <td>51290</td>\n",
       "      <td>23</td>\n",
       "      <td>Western Europe</td>\n",
       "      <td>5883</td>\n",
       "    </tr>\n",
       "    <tr>\n",
       "      <th>Market</th>\n",
       "      <td>51290</td>\n",
       "      <td>5</td>\n",
       "      <td>Asia Pacific</td>\n",
       "      <td>14302</td>\n",
       "    </tr>\n",
       "    <tr>\n",
       "      <th>Product ID</th>\n",
       "      <td>51290</td>\n",
       "      <td>3788</td>\n",
       "      <td>OFF-FA-6129</td>\n",
       "      <td>227</td>\n",
       "    </tr>\n",
       "    <tr>\n",
       "      <th>Category</th>\n",
       "      <td>51290</td>\n",
       "      <td>3</td>\n",
       "      <td>Office Supplies</td>\n",
       "      <td>31289</td>\n",
       "    </tr>\n",
       "    <tr>\n",
       "      <th>Sub-Category</th>\n",
       "      <td>51290</td>\n",
       "      <td>17</td>\n",
       "      <td>Binders</td>\n",
       "      <td>6146</td>\n",
       "    </tr>\n",
       "    <tr>\n",
       "      <th>Product Name</th>\n",
       "      <td>51290</td>\n",
       "      <td>3788</td>\n",
       "      <td>Staples</td>\n",
       "      <td>227</td>\n",
       "    </tr>\n",
       "    <tr>\n",
       "      <th>Order Priority</th>\n",
       "      <td>51290</td>\n",
       "      <td>4</td>\n",
       "      <td>Medium</td>\n",
       "      <td>29433</td>\n",
       "    </tr>\n",
       "  </tbody>\n",
       "</table>\n",
       "</div>"
      ],
      "text/plain": [
       "                count unique                       top   freq\n",
       "Order ID        51290  25728  CA-2015-SV20365140-42268     14\n",
       "Ship Mode       51290      4            Standard Class  30775\n",
       "Customer ID     51290  17415              SV-203651406     26\n",
       "Customer Name   51290    796           Muhammed Yedwab    108\n",
       "Segment         51290      3                  Consumer  26518\n",
       "City            51290   3650             New York City    915\n",
       "State           51290   1102                California   2001\n",
       "Country         51290    165             United States   9994\n",
       "Region          51290     23            Western Europe   5883\n",
       "Market          51290      5              Asia Pacific  14302\n",
       "Product ID      51290   3788               OFF-FA-6129    227\n",
       "Category        51290      3           Office Supplies  31289\n",
       "Sub-Category    51290     17                   Binders   6146\n",
       "Product Name    51290   3788                   Staples    227\n",
       "Order Priority  51290      4                    Medium  29433"
      ]
     },
     "execution_count": 25,
     "metadata": {},
     "output_type": "execute_result"
    }
   ],
   "source": [
    "df.describe(include='object').T"
   ]
  },
  {
   "cell_type": "code",
   "execution_count": 29,
   "id": "a4c1b96d",
   "metadata": {},
   "outputs": [
    {
     "data": {
      "text/html": [
       "<div>\n",
       "<style scoped>\n",
       "    .dataframe tbody tr th:only-of-type {\n",
       "        vertical-align: middle;\n",
       "    }\n",
       "\n",
       "    .dataframe tbody tr th {\n",
       "        vertical-align: top;\n",
       "    }\n",
       "\n",
       "    .dataframe thead th {\n",
       "        text-align: right;\n",
       "    }\n",
       "</style>\n",
       "<table border=\"1\" class=\"dataframe\">\n",
       "  <thead>\n",
       "    <tr style=\"text-align: right;\">\n",
       "      <th></th>\n",
       "      <th>count</th>\n",
       "      <th>unique</th>\n",
       "      <th>top</th>\n",
       "      <th>freq</th>\n",
       "      <th>mean</th>\n",
       "      <th>min</th>\n",
       "      <th>1%</th>\n",
       "      <th>5%</th>\n",
       "      <th>25%</th>\n",
       "      <th>50%</th>\n",
       "      <th>75%</th>\n",
       "      <th>95%</th>\n",
       "      <th>99%</th>\n",
       "      <th>max</th>\n",
       "      <th>std</th>\n",
       "    </tr>\n",
       "  </thead>\n",
       "  <tbody>\n",
       "    <tr>\n",
       "      <th>Order ID</th>\n",
       "      <td>51290</td>\n",
       "      <td>25728</td>\n",
       "      <td>CA-2015-SV20365140-42268</td>\n",
       "      <td>14</td>\n",
       "      <td>NaN</td>\n",
       "      <td>NaN</td>\n",
       "      <td>NaN</td>\n",
       "      <td>NaN</td>\n",
       "      <td>NaN</td>\n",
       "      <td>NaN</td>\n",
       "      <td>NaN</td>\n",
       "      <td>NaN</td>\n",
       "      <td>NaN</td>\n",
       "      <td>NaN</td>\n",
       "      <td>NaN</td>\n",
       "    </tr>\n",
       "    <tr>\n",
       "      <th>Order Date</th>\n",
       "      <td>51290</td>\n",
       "      <td>NaN</td>\n",
       "      <td>NaN</td>\n",
       "      <td>NaN</td>\n",
       "      <td>2014-05-11 21:26:49.155780608</td>\n",
       "      <td>2012-01-01 00:00:00</td>\n",
       "      <td>2012-02-07 00:00:00</td>\n",
       "      <td>2012-06-02 00:00:00</td>\n",
       "      <td>2013-06-19 00:00:00</td>\n",
       "      <td>2014-07-08 00:00:00</td>\n",
       "      <td>2015-05-22 00:00:00</td>\n",
       "      <td>2015-11-25 00:00:00</td>\n",
       "      <td>2015-12-24 02:38:24</td>\n",
       "      <td>2015-12-31 00:00:00</td>\n",
       "      <td>NaN</td>\n",
       "    </tr>\n",
       "    <tr>\n",
       "      <th>Ship Date</th>\n",
       "      <td>51290</td>\n",
       "      <td>NaN</td>\n",
       "      <td>NaN</td>\n",
       "      <td>NaN</td>\n",
       "      <td>2014-05-15 20:42:42.745174528</td>\n",
       "      <td>2012-01-03 00:00:00</td>\n",
       "      <td>2012-02-11 00:00:00</td>\n",
       "      <td>2012-06-06 00:00:00</td>\n",
       "      <td>2013-06-23 00:00:00</td>\n",
       "      <td>2014-07-12 00:00:00</td>\n",
       "      <td>2015-05-26 00:00:00</td>\n",
       "      <td>2015-11-29 00:00:00</td>\n",
       "      <td>2015-12-29 00:00:00</td>\n",
       "      <td>2016-01-07 00:00:00</td>\n",
       "      <td>NaN</td>\n",
       "    </tr>\n",
       "    <tr>\n",
       "      <th>Ship Mode</th>\n",
       "      <td>51290</td>\n",
       "      <td>4</td>\n",
       "      <td>Standard Class</td>\n",
       "      <td>30775</td>\n",
       "      <td>NaN</td>\n",
       "      <td>NaN</td>\n",
       "      <td>NaN</td>\n",
       "      <td>NaN</td>\n",
       "      <td>NaN</td>\n",
       "      <td>NaN</td>\n",
       "      <td>NaN</td>\n",
       "      <td>NaN</td>\n",
       "      <td>NaN</td>\n",
       "      <td>NaN</td>\n",
       "      <td>NaN</td>\n",
       "    </tr>\n",
       "    <tr>\n",
       "      <th>Customer ID</th>\n",
       "      <td>51290</td>\n",
       "      <td>17415</td>\n",
       "      <td>SV-203651406</td>\n",
       "      <td>26</td>\n",
       "      <td>NaN</td>\n",
       "      <td>NaN</td>\n",
       "      <td>NaN</td>\n",
       "      <td>NaN</td>\n",
       "      <td>NaN</td>\n",
       "      <td>NaN</td>\n",
       "      <td>NaN</td>\n",
       "      <td>NaN</td>\n",
       "      <td>NaN</td>\n",
       "      <td>NaN</td>\n",
       "      <td>NaN</td>\n",
       "    </tr>\n",
       "    <tr>\n",
       "      <th>Customer Name</th>\n",
       "      <td>51290</td>\n",
       "      <td>796</td>\n",
       "      <td>Muhammed Yedwab</td>\n",
       "      <td>108</td>\n",
       "      <td>NaN</td>\n",
       "      <td>NaN</td>\n",
       "      <td>NaN</td>\n",
       "      <td>NaN</td>\n",
       "      <td>NaN</td>\n",
       "      <td>NaN</td>\n",
       "      <td>NaN</td>\n",
       "      <td>NaN</td>\n",
       "      <td>NaN</td>\n",
       "      <td>NaN</td>\n",
       "      <td>NaN</td>\n",
       "    </tr>\n",
       "    <tr>\n",
       "      <th>Segment</th>\n",
       "      <td>51290</td>\n",
       "      <td>3</td>\n",
       "      <td>Consumer</td>\n",
       "      <td>26518</td>\n",
       "      <td>NaN</td>\n",
       "      <td>NaN</td>\n",
       "      <td>NaN</td>\n",
       "      <td>NaN</td>\n",
       "      <td>NaN</td>\n",
       "      <td>NaN</td>\n",
       "      <td>NaN</td>\n",
       "      <td>NaN</td>\n",
       "      <td>NaN</td>\n",
       "      <td>NaN</td>\n",
       "      <td>NaN</td>\n",
       "    </tr>\n",
       "    <tr>\n",
       "      <th>Postal Code</th>\n",
       "      <td>9994.0</td>\n",
       "      <td>NaN</td>\n",
       "      <td>NaN</td>\n",
       "      <td>NaN</td>\n",
       "      <td>55190.379428</td>\n",
       "      <td>1040.0</td>\n",
       "      <td>2149.0</td>\n",
       "      <td>10009.0</td>\n",
       "      <td>23223.0</td>\n",
       "      <td>56430.5</td>\n",
       "      <td>90008.0</td>\n",
       "      <td>98006.0</td>\n",
       "      <td>98115.0</td>\n",
       "      <td>99301.0</td>\n",
       "      <td>32063.69335</td>\n",
       "    </tr>\n",
       "    <tr>\n",
       "      <th>City</th>\n",
       "      <td>51290</td>\n",
       "      <td>3650</td>\n",
       "      <td>New York City</td>\n",
       "      <td>915</td>\n",
       "      <td>NaN</td>\n",
       "      <td>NaN</td>\n",
       "      <td>NaN</td>\n",
       "      <td>NaN</td>\n",
       "      <td>NaN</td>\n",
       "      <td>NaN</td>\n",
       "      <td>NaN</td>\n",
       "      <td>NaN</td>\n",
       "      <td>NaN</td>\n",
       "      <td>NaN</td>\n",
       "      <td>NaN</td>\n",
       "    </tr>\n",
       "    <tr>\n",
       "      <th>State</th>\n",
       "      <td>51290</td>\n",
       "      <td>1102</td>\n",
       "      <td>California</td>\n",
       "      <td>2001</td>\n",
       "      <td>NaN</td>\n",
       "      <td>NaN</td>\n",
       "      <td>NaN</td>\n",
       "      <td>NaN</td>\n",
       "      <td>NaN</td>\n",
       "      <td>NaN</td>\n",
       "      <td>NaN</td>\n",
       "      <td>NaN</td>\n",
       "      <td>NaN</td>\n",
       "      <td>NaN</td>\n",
       "      <td>NaN</td>\n",
       "    </tr>\n",
       "    <tr>\n",
       "      <th>Country</th>\n",
       "      <td>51290</td>\n",
       "      <td>165</td>\n",
       "      <td>United States</td>\n",
       "      <td>9994</td>\n",
       "      <td>NaN</td>\n",
       "      <td>NaN</td>\n",
       "      <td>NaN</td>\n",
       "      <td>NaN</td>\n",
       "      <td>NaN</td>\n",
       "      <td>NaN</td>\n",
       "      <td>NaN</td>\n",
       "      <td>NaN</td>\n",
       "      <td>NaN</td>\n",
       "      <td>NaN</td>\n",
       "      <td>NaN</td>\n",
       "    </tr>\n",
       "    <tr>\n",
       "      <th>Region</th>\n",
       "      <td>51290</td>\n",
       "      <td>23</td>\n",
       "      <td>Western Europe</td>\n",
       "      <td>5883</td>\n",
       "      <td>NaN</td>\n",
       "      <td>NaN</td>\n",
       "      <td>NaN</td>\n",
       "      <td>NaN</td>\n",
       "      <td>NaN</td>\n",
       "      <td>NaN</td>\n",
       "      <td>NaN</td>\n",
       "      <td>NaN</td>\n",
       "      <td>NaN</td>\n",
       "      <td>NaN</td>\n",
       "      <td>NaN</td>\n",
       "    </tr>\n",
       "    <tr>\n",
       "      <th>Market</th>\n",
       "      <td>51290</td>\n",
       "      <td>5</td>\n",
       "      <td>Asia Pacific</td>\n",
       "      <td>14302</td>\n",
       "      <td>NaN</td>\n",
       "      <td>NaN</td>\n",
       "      <td>NaN</td>\n",
       "      <td>NaN</td>\n",
       "      <td>NaN</td>\n",
       "      <td>NaN</td>\n",
       "      <td>NaN</td>\n",
       "      <td>NaN</td>\n",
       "      <td>NaN</td>\n",
       "      <td>NaN</td>\n",
       "      <td>NaN</td>\n",
       "    </tr>\n",
       "    <tr>\n",
       "      <th>Product ID</th>\n",
       "      <td>51290</td>\n",
       "      <td>3788</td>\n",
       "      <td>OFF-FA-6129</td>\n",
       "      <td>227</td>\n",
       "      <td>NaN</td>\n",
       "      <td>NaN</td>\n",
       "      <td>NaN</td>\n",
       "      <td>NaN</td>\n",
       "      <td>NaN</td>\n",
       "      <td>NaN</td>\n",
       "      <td>NaN</td>\n",
       "      <td>NaN</td>\n",
       "      <td>NaN</td>\n",
       "      <td>NaN</td>\n",
       "      <td>NaN</td>\n",
       "    </tr>\n",
       "    <tr>\n",
       "      <th>Category</th>\n",
       "      <td>51290</td>\n",
       "      <td>3</td>\n",
       "      <td>Office Supplies</td>\n",
       "      <td>31289</td>\n",
       "      <td>NaN</td>\n",
       "      <td>NaN</td>\n",
       "      <td>NaN</td>\n",
       "      <td>NaN</td>\n",
       "      <td>NaN</td>\n",
       "      <td>NaN</td>\n",
       "      <td>NaN</td>\n",
       "      <td>NaN</td>\n",
       "      <td>NaN</td>\n",
       "      <td>NaN</td>\n",
       "      <td>NaN</td>\n",
       "    </tr>\n",
       "    <tr>\n",
       "      <th>Sub-Category</th>\n",
       "      <td>51290</td>\n",
       "      <td>17</td>\n",
       "      <td>Binders</td>\n",
       "      <td>6146</td>\n",
       "      <td>NaN</td>\n",
       "      <td>NaN</td>\n",
       "      <td>NaN</td>\n",
       "      <td>NaN</td>\n",
       "      <td>NaN</td>\n",
       "      <td>NaN</td>\n",
       "      <td>NaN</td>\n",
       "      <td>NaN</td>\n",
       "      <td>NaN</td>\n",
       "      <td>NaN</td>\n",
       "      <td>NaN</td>\n",
       "    </tr>\n",
       "    <tr>\n",
       "      <th>Product Name</th>\n",
       "      <td>51290</td>\n",
       "      <td>3788</td>\n",
       "      <td>Staples</td>\n",
       "      <td>227</td>\n",
       "      <td>NaN</td>\n",
       "      <td>NaN</td>\n",
       "      <td>NaN</td>\n",
       "      <td>NaN</td>\n",
       "      <td>NaN</td>\n",
       "      <td>NaN</td>\n",
       "      <td>NaN</td>\n",
       "      <td>NaN</td>\n",
       "      <td>NaN</td>\n",
       "      <td>NaN</td>\n",
       "      <td>NaN</td>\n",
       "    </tr>\n",
       "    <tr>\n",
       "      <th>Sales</th>\n",
       "      <td>51290.0</td>\n",
       "      <td>NaN</td>\n",
       "      <td>NaN</td>\n",
       "      <td>NaN</td>\n",
       "      <td>246.490581</td>\n",
       "      <td>0.444</td>\n",
       "      <td>3.69</td>\n",
       "      <td>8.8</td>\n",
       "      <td>30.758625</td>\n",
       "      <td>85.053</td>\n",
       "      <td>251.0532</td>\n",
       "      <td>1015.95564</td>\n",
       "      <td>2301.0</td>\n",
       "      <td>22638.48</td>\n",
       "      <td>487.565361</td>\n",
       "    </tr>\n",
       "    <tr>\n",
       "      <th>Quantity</th>\n",
       "      <td>51290.0</td>\n",
       "      <td>NaN</td>\n",
       "      <td>NaN</td>\n",
       "      <td>NaN</td>\n",
       "      <td>3.476545</td>\n",
       "      <td>1.0</td>\n",
       "      <td>1.0</td>\n",
       "      <td>1.0</td>\n",
       "      <td>2.0</td>\n",
       "      <td>3.0</td>\n",
       "      <td>5.0</td>\n",
       "      <td>8.0</td>\n",
       "      <td>11.0</td>\n",
       "      <td>14.0</td>\n",
       "      <td>2.278766</td>\n",
       "    </tr>\n",
       "    <tr>\n",
       "      <th>Discount</th>\n",
       "      <td>51290.0</td>\n",
       "      <td>NaN</td>\n",
       "      <td>NaN</td>\n",
       "      <td>NaN</td>\n",
       "      <td>0.142908</td>\n",
       "      <td>0.0</td>\n",
       "      <td>0.0</td>\n",
       "      <td>0.0</td>\n",
       "      <td>0.0</td>\n",
       "      <td>0.0</td>\n",
       "      <td>0.2</td>\n",
       "      <td>0.6</td>\n",
       "      <td>0.7</td>\n",
       "      <td>0.85</td>\n",
       "      <td>0.21228</td>\n",
       "    </tr>\n",
       "    <tr>\n",
       "      <th>Profit</th>\n",
       "      <td>51290.0</td>\n",
       "      <td>NaN</td>\n",
       "      <td>NaN</td>\n",
       "      <td>NaN</td>\n",
       "      <td>28.610982</td>\n",
       "      <td>-6599.978</td>\n",
       "      <td>-351.50565</td>\n",
       "      <td>-83.90475</td>\n",
       "      <td>0.0</td>\n",
       "      <td>9.24</td>\n",
       "      <td>36.81</td>\n",
       "      <td>211.5</td>\n",
       "      <td>587.35995</td>\n",
       "      <td>8399.976</td>\n",
       "      <td>174.340972</td>\n",
       "    </tr>\n",
       "    <tr>\n",
       "      <th>Shipping Cost</th>\n",
       "      <td>51290.0</td>\n",
       "      <td>NaN</td>\n",
       "      <td>NaN</td>\n",
       "      <td>NaN</td>\n",
       "      <td>26.478567</td>\n",
       "      <td>1.002</td>\n",
       "      <td>1.11</td>\n",
       "      <td>1.32</td>\n",
       "      <td>2.61</td>\n",
       "      <td>7.79</td>\n",
       "      <td>24.45</td>\n",
       "      <td>111.4095</td>\n",
       "      <td>286.7543</td>\n",
       "      <td>933.57</td>\n",
       "      <td>57.251373</td>\n",
       "    </tr>\n",
       "    <tr>\n",
       "      <th>Order Priority</th>\n",
       "      <td>51290</td>\n",
       "      <td>4</td>\n",
       "      <td>Medium</td>\n",
       "      <td>29433</td>\n",
       "      <td>NaN</td>\n",
       "      <td>NaN</td>\n",
       "      <td>NaN</td>\n",
       "      <td>NaN</td>\n",
       "      <td>NaN</td>\n",
       "      <td>NaN</td>\n",
       "      <td>NaN</td>\n",
       "      <td>NaN</td>\n",
       "      <td>NaN</td>\n",
       "      <td>NaN</td>\n",
       "      <td>NaN</td>\n",
       "    </tr>\n",
       "  </tbody>\n",
       "</table>\n",
       "</div>"
      ],
      "text/plain": [
       "                  count unique                       top   freq  \\\n",
       "Order ID          51290  25728  CA-2015-SV20365140-42268     14   \n",
       "Order Date        51290    NaN                       NaN    NaN   \n",
       "Ship Date         51290    NaN                       NaN    NaN   \n",
       "Ship Mode         51290      4            Standard Class  30775   \n",
       "Customer ID       51290  17415              SV-203651406     26   \n",
       "Customer Name     51290    796           Muhammed Yedwab    108   \n",
       "Segment           51290      3                  Consumer  26518   \n",
       "Postal Code      9994.0    NaN                       NaN    NaN   \n",
       "City              51290   3650             New York City    915   \n",
       "State             51290   1102                California   2001   \n",
       "Country           51290    165             United States   9994   \n",
       "Region            51290     23            Western Europe   5883   \n",
       "Market            51290      5              Asia Pacific  14302   \n",
       "Product ID        51290   3788               OFF-FA-6129    227   \n",
       "Category          51290      3           Office Supplies  31289   \n",
       "Sub-Category      51290     17                   Binders   6146   \n",
       "Product Name      51290   3788                   Staples    227   \n",
       "Sales           51290.0    NaN                       NaN    NaN   \n",
       "Quantity        51290.0    NaN                       NaN    NaN   \n",
       "Discount        51290.0    NaN                       NaN    NaN   \n",
       "Profit          51290.0    NaN                       NaN    NaN   \n",
       "Shipping Cost   51290.0    NaN                       NaN    NaN   \n",
       "Order Priority    51290      4                    Medium  29433   \n",
       "\n",
       "                                         mean                  min  \\\n",
       "Order ID                                  NaN                  NaN   \n",
       "Order Date      2014-05-11 21:26:49.155780608  2012-01-01 00:00:00   \n",
       "Ship Date       2014-05-15 20:42:42.745174528  2012-01-03 00:00:00   \n",
       "Ship Mode                                 NaN                  NaN   \n",
       "Customer ID                               NaN                  NaN   \n",
       "Customer Name                             NaN                  NaN   \n",
       "Segment                                   NaN                  NaN   \n",
       "Postal Code                      55190.379428               1040.0   \n",
       "City                                      NaN                  NaN   \n",
       "State                                     NaN                  NaN   \n",
       "Country                                   NaN                  NaN   \n",
       "Region                                    NaN                  NaN   \n",
       "Market                                    NaN                  NaN   \n",
       "Product ID                                NaN                  NaN   \n",
       "Category                                  NaN                  NaN   \n",
       "Sub-Category                              NaN                  NaN   \n",
       "Product Name                              NaN                  NaN   \n",
       "Sales                              246.490581                0.444   \n",
       "Quantity                             3.476545                  1.0   \n",
       "Discount                             0.142908                  0.0   \n",
       "Profit                              28.610982            -6599.978   \n",
       "Shipping Cost                       26.478567                1.002   \n",
       "Order Priority                            NaN                  NaN   \n",
       "\n",
       "                                 1%                   5%                  25%  \\\n",
       "Order ID                        NaN                  NaN                  NaN   \n",
       "Order Date      2012-02-07 00:00:00  2012-06-02 00:00:00  2013-06-19 00:00:00   \n",
       "Ship Date       2012-02-11 00:00:00  2012-06-06 00:00:00  2013-06-23 00:00:00   \n",
       "Ship Mode                       NaN                  NaN                  NaN   \n",
       "Customer ID                     NaN                  NaN                  NaN   \n",
       "Customer Name                   NaN                  NaN                  NaN   \n",
       "Segment                         NaN                  NaN                  NaN   \n",
       "Postal Code                  2149.0              10009.0              23223.0   \n",
       "City                            NaN                  NaN                  NaN   \n",
       "State                           NaN                  NaN                  NaN   \n",
       "Country                         NaN                  NaN                  NaN   \n",
       "Region                          NaN                  NaN                  NaN   \n",
       "Market                          NaN                  NaN                  NaN   \n",
       "Product ID                      NaN                  NaN                  NaN   \n",
       "Category                        NaN                  NaN                  NaN   \n",
       "Sub-Category                    NaN                  NaN                  NaN   \n",
       "Product Name                    NaN                  NaN                  NaN   \n",
       "Sales                          3.69                  8.8            30.758625   \n",
       "Quantity                        1.0                  1.0                  2.0   \n",
       "Discount                        0.0                  0.0                  0.0   \n",
       "Profit                   -351.50565            -83.90475                  0.0   \n",
       "Shipping Cost                  1.11                 1.32                 2.61   \n",
       "Order Priority                  NaN                  NaN                  NaN   \n",
       "\n",
       "                                50%                  75%                  95%  \\\n",
       "Order ID                        NaN                  NaN                  NaN   \n",
       "Order Date      2014-07-08 00:00:00  2015-05-22 00:00:00  2015-11-25 00:00:00   \n",
       "Ship Date       2014-07-12 00:00:00  2015-05-26 00:00:00  2015-11-29 00:00:00   \n",
       "Ship Mode                       NaN                  NaN                  NaN   \n",
       "Customer ID                     NaN                  NaN                  NaN   \n",
       "Customer Name                   NaN                  NaN                  NaN   \n",
       "Segment                         NaN                  NaN                  NaN   \n",
       "Postal Code                 56430.5              90008.0              98006.0   \n",
       "City                            NaN                  NaN                  NaN   \n",
       "State                           NaN                  NaN                  NaN   \n",
       "Country                         NaN                  NaN                  NaN   \n",
       "Region                          NaN                  NaN                  NaN   \n",
       "Market                          NaN                  NaN                  NaN   \n",
       "Product ID                      NaN                  NaN                  NaN   \n",
       "Category                        NaN                  NaN                  NaN   \n",
       "Sub-Category                    NaN                  NaN                  NaN   \n",
       "Product Name                    NaN                  NaN                  NaN   \n",
       "Sales                        85.053             251.0532           1015.95564   \n",
       "Quantity                        3.0                  5.0                  8.0   \n",
       "Discount                        0.0                  0.2                  0.6   \n",
       "Profit                         9.24                36.81                211.5   \n",
       "Shipping Cost                  7.79                24.45             111.4095   \n",
       "Order Priority                  NaN                  NaN                  NaN   \n",
       "\n",
       "                                99%                  max          std  \n",
       "Order ID                        NaN                  NaN          NaN  \n",
       "Order Date      2015-12-24 02:38:24  2015-12-31 00:00:00          NaN  \n",
       "Ship Date       2015-12-29 00:00:00  2016-01-07 00:00:00          NaN  \n",
       "Ship Mode                       NaN                  NaN          NaN  \n",
       "Customer ID                     NaN                  NaN          NaN  \n",
       "Customer Name                   NaN                  NaN          NaN  \n",
       "Segment                         NaN                  NaN          NaN  \n",
       "Postal Code                 98115.0              99301.0  32063.69335  \n",
       "City                            NaN                  NaN          NaN  \n",
       "State                           NaN                  NaN          NaN  \n",
       "Country                         NaN                  NaN          NaN  \n",
       "Region                          NaN                  NaN          NaN  \n",
       "Market                          NaN                  NaN          NaN  \n",
       "Product ID                      NaN                  NaN          NaN  \n",
       "Category                        NaN                  NaN          NaN  \n",
       "Sub-Category                    NaN                  NaN          NaN  \n",
       "Product Name                    NaN                  NaN          NaN  \n",
       "Sales                        2301.0             22638.48   487.565361  \n",
       "Quantity                       11.0                 14.0     2.278766  \n",
       "Discount                        0.7                 0.85      0.21228  \n",
       "Profit                    587.35995             8399.976   174.340972  \n",
       "Shipping Cost              286.7543               933.57    57.251373  \n",
       "Order Priority                  NaN                  NaN          NaN  "
      ]
     },
     "execution_count": 29,
     "metadata": {},
     "output_type": "execute_result"
    }
   ],
   "source": [
    "df.describe(include='all',percentiles=[0.01,0.05,0.25,0.50,0.75,0.95,0.99],datetime_is_numeric=True).T"
   ]
  },
  {
   "cell_type": "code",
   "execution_count": null,
   "id": "c5909350",
   "metadata": {},
   "outputs": [],
   "source": []
  },
  {
   "cell_type": "code",
   "execution_count": null,
   "id": "ce582c5f",
   "metadata": {},
   "outputs": [],
   "source": []
  },
  {
   "cell_type": "code",
   "execution_count": null,
   "id": "fcb9f8e8",
   "metadata": {},
   "outputs": [],
   "source": []
  },
  {
   "cell_type": "code",
   "execution_count": null,
   "id": "24011e40",
   "metadata": {},
   "outputs": [],
   "source": []
  },
  {
   "cell_type": "code",
   "execution_count": null,
   "id": "b7cbd399",
   "metadata": {},
   "outputs": [],
   "source": []
  }
 ],
 "metadata": {
  "kernelspec": {
   "display_name": "Python 3",
   "language": "python",
   "name": "python3"
  },
  "language_info": {
   "codemirror_mode": {
    "name": "ipython",
    "version": 3
   },
   "file_extension": ".py",
   "mimetype": "text/x-python",
   "name": "python",
   "nbconvert_exporter": "python",
   "pygments_lexer": "ipython3",
   "version": "3.8.8"
  }
 },
 "nbformat": 4,
 "nbformat_minor": 5
}
